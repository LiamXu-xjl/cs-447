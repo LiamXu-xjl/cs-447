{
  "nbformat": 4,
  "nbformat_minor": 0,
  "metadata": {
    "colab": {
      "name": "hw4.ipynb",
      "provenance": [],
      "collapsed_sections": [],
      "toc_visible": true
    },
    "kernelspec": {
      "name": "python3",
      "display_name": "Python 3"
    },
    "accelerator": "GPU",
    "widgets": {
      "application/vnd.jupyter.widget-state+json": {
        "3b6b33fc738345169f67e0c77ccb26f3": {
          "model_module": "@jupyter-widgets/controls",
          "model_name": "HBoxModel",
          "state": {
            "_view_name": "HBoxView",
            "_dom_classes": [],
            "_model_name": "HBoxModel",
            "_view_module": "@jupyter-widgets/controls",
            "_model_module_version": "1.5.0",
            "_view_count": null,
            "_view_module_version": "1.5.0",
            "box_style": "",
            "layout": "IPY_MODEL_b380219dba55402bb9dcf0ddb0955f82",
            "_model_module": "@jupyter-widgets/controls",
            "children": [
              "IPY_MODEL_a0f166baaff64e84a7ace623a240ccac",
              "IPY_MODEL_cc657f36b7ca48029639e4194f949e52"
            ]
          }
        },
        "b380219dba55402bb9dcf0ddb0955f82": {
          "model_module": "@jupyter-widgets/base",
          "model_name": "LayoutModel",
          "state": {
            "_view_name": "LayoutView",
            "grid_template_rows": null,
            "right": null,
            "justify_content": null,
            "_view_module": "@jupyter-widgets/base",
            "overflow": null,
            "_model_module_version": "1.2.0",
            "_view_count": null,
            "flex_flow": null,
            "width": null,
            "min_width": null,
            "border": null,
            "align_items": null,
            "bottom": null,
            "_model_module": "@jupyter-widgets/base",
            "top": null,
            "grid_column": null,
            "overflow_y": null,
            "overflow_x": null,
            "grid_auto_flow": null,
            "grid_area": null,
            "grid_template_columns": null,
            "flex": null,
            "_model_name": "LayoutModel",
            "justify_items": null,
            "grid_row": null,
            "max_height": null,
            "align_content": null,
            "visibility": null,
            "align_self": null,
            "height": null,
            "min_height": null,
            "padding": null,
            "grid_auto_rows": null,
            "grid_gap": null,
            "max_width": null,
            "order": null,
            "_view_module_version": "1.2.0",
            "grid_template_areas": null,
            "object_position": null,
            "object_fit": null,
            "grid_auto_columns": null,
            "margin": null,
            "display": null,
            "left": null
          }
        },
        "a0f166baaff64e84a7ace623a240ccac": {
          "model_module": "@jupyter-widgets/controls",
          "model_name": "FloatProgressModel",
          "state": {
            "_view_name": "ProgressView",
            "style": "IPY_MODEL_55b0879ead1f4cdbae5b826f47f63be1",
            "_dom_classes": [],
            "description": "100%",
            "_model_name": "FloatProgressModel",
            "bar_style": "success",
            "max": 375,
            "_view_module": "@jupyter-widgets/controls",
            "_model_module_version": "1.5.0",
            "value": 375,
            "_view_count": null,
            "_view_module_version": "1.5.0",
            "orientation": "horizontal",
            "min": 0,
            "description_tooltip": null,
            "_model_module": "@jupyter-widgets/controls",
            "layout": "IPY_MODEL_2acc8e3601ff4e43b3df0303fa79d759"
          }
        },
        "cc657f36b7ca48029639e4194f949e52": {
          "model_module": "@jupyter-widgets/controls",
          "model_name": "HTMLModel",
          "state": {
            "_view_name": "HTMLView",
            "style": "IPY_MODEL_ca51dca768274052b4e28c562cf8c27b",
            "_dom_classes": [],
            "description": "",
            "_model_name": "HTMLModel",
            "placeholder": "​",
            "_view_module": "@jupyter-widgets/controls",
            "_model_module_version": "1.5.0",
            "value": " 375/375 [03:06&lt;00:00,  2.01it/s]",
            "_view_count": null,
            "_view_module_version": "1.5.0",
            "description_tooltip": null,
            "_model_module": "@jupyter-widgets/controls",
            "layout": "IPY_MODEL_6c0713e969fb4bfd9b2244e2a81f7903"
          }
        },
        "55b0879ead1f4cdbae5b826f47f63be1": {
          "model_module": "@jupyter-widgets/controls",
          "model_name": "ProgressStyleModel",
          "state": {
            "_view_name": "StyleView",
            "_model_name": "ProgressStyleModel",
            "description_width": "initial",
            "_view_module": "@jupyter-widgets/base",
            "_model_module_version": "1.5.0",
            "_view_count": null,
            "_view_module_version": "1.2.0",
            "bar_color": null,
            "_model_module": "@jupyter-widgets/controls"
          }
        },
        "2acc8e3601ff4e43b3df0303fa79d759": {
          "model_module": "@jupyter-widgets/base",
          "model_name": "LayoutModel",
          "state": {
            "_view_name": "LayoutView",
            "grid_template_rows": null,
            "right": null,
            "justify_content": null,
            "_view_module": "@jupyter-widgets/base",
            "overflow": null,
            "_model_module_version": "1.2.0",
            "_view_count": null,
            "flex_flow": null,
            "width": null,
            "min_width": null,
            "border": null,
            "align_items": null,
            "bottom": null,
            "_model_module": "@jupyter-widgets/base",
            "top": null,
            "grid_column": null,
            "overflow_y": null,
            "overflow_x": null,
            "grid_auto_flow": null,
            "grid_area": null,
            "grid_template_columns": null,
            "flex": null,
            "_model_name": "LayoutModel",
            "justify_items": null,
            "grid_row": null,
            "max_height": null,
            "align_content": null,
            "visibility": null,
            "align_self": null,
            "height": null,
            "min_height": null,
            "padding": null,
            "grid_auto_rows": null,
            "grid_gap": null,
            "max_width": null,
            "order": null,
            "_view_module_version": "1.2.0",
            "grid_template_areas": null,
            "object_position": null,
            "object_fit": null,
            "grid_auto_columns": null,
            "margin": null,
            "display": null,
            "left": null
          }
        },
        "ca51dca768274052b4e28c562cf8c27b": {
          "model_module": "@jupyter-widgets/controls",
          "model_name": "DescriptionStyleModel",
          "state": {
            "_view_name": "StyleView",
            "_model_name": "DescriptionStyleModel",
            "description_width": "",
            "_view_module": "@jupyter-widgets/base",
            "_model_module_version": "1.5.0",
            "_view_count": null,
            "_view_module_version": "1.2.0",
            "_model_module": "@jupyter-widgets/controls"
          }
        },
        "6c0713e969fb4bfd9b2244e2a81f7903": {
          "model_module": "@jupyter-widgets/base",
          "model_name": "LayoutModel",
          "state": {
            "_view_name": "LayoutView",
            "grid_template_rows": null,
            "right": null,
            "justify_content": null,
            "_view_module": "@jupyter-widgets/base",
            "overflow": null,
            "_model_module_version": "1.2.0",
            "_view_count": null,
            "flex_flow": null,
            "width": null,
            "min_width": null,
            "border": null,
            "align_items": null,
            "bottom": null,
            "_model_module": "@jupyter-widgets/base",
            "top": null,
            "grid_column": null,
            "overflow_y": null,
            "overflow_x": null,
            "grid_auto_flow": null,
            "grid_area": null,
            "grid_template_columns": null,
            "flex": null,
            "_model_name": "LayoutModel",
            "justify_items": null,
            "grid_row": null,
            "max_height": null,
            "align_content": null,
            "visibility": null,
            "align_self": null,
            "height": null,
            "min_height": null,
            "padding": null,
            "grid_auto_rows": null,
            "grid_gap": null,
            "max_width": null,
            "order": null,
            "_view_module_version": "1.2.0",
            "grid_template_areas": null,
            "object_position": null,
            "object_fit": null,
            "grid_auto_columns": null,
            "margin": null,
            "display": null,
            "left": null
          }
        },
        "9888cbcaed6c49fb98ab8fded2c0bd0d": {
          "model_module": "@jupyter-widgets/controls",
          "model_name": "HBoxModel",
          "state": {
            "_view_name": "HBoxView",
            "_dom_classes": [],
            "_model_name": "HBoxModel",
            "_view_module": "@jupyter-widgets/controls",
            "_model_module_version": "1.5.0",
            "_view_count": null,
            "_view_module_version": "1.5.0",
            "box_style": "",
            "layout": "IPY_MODEL_f8acaa8969244c9ea7aaafd22920afb4",
            "_model_module": "@jupyter-widgets/controls",
            "children": [
              "IPY_MODEL_692da639c8dd4bf3a40b593c2061b0b6",
              "IPY_MODEL_da313391c1a14fa1bba63f33a4dd9467"
            ]
          }
        },
        "f8acaa8969244c9ea7aaafd22920afb4": {
          "model_module": "@jupyter-widgets/base",
          "model_name": "LayoutModel",
          "state": {
            "_view_name": "LayoutView",
            "grid_template_rows": null,
            "right": null,
            "justify_content": null,
            "_view_module": "@jupyter-widgets/base",
            "overflow": null,
            "_model_module_version": "1.2.0",
            "_view_count": null,
            "flex_flow": null,
            "width": null,
            "min_width": null,
            "border": null,
            "align_items": null,
            "bottom": null,
            "_model_module": "@jupyter-widgets/base",
            "top": null,
            "grid_column": null,
            "overflow_y": null,
            "overflow_x": null,
            "grid_auto_flow": null,
            "grid_area": null,
            "grid_template_columns": null,
            "flex": null,
            "_model_name": "LayoutModel",
            "justify_items": null,
            "grid_row": null,
            "max_height": null,
            "align_content": null,
            "visibility": null,
            "align_self": null,
            "height": null,
            "min_height": null,
            "padding": null,
            "grid_auto_rows": null,
            "grid_gap": null,
            "max_width": null,
            "order": null,
            "_view_module_version": "1.2.0",
            "grid_template_areas": null,
            "object_position": null,
            "object_fit": null,
            "grid_auto_columns": null,
            "margin": null,
            "display": null,
            "left": null
          }
        },
        "692da639c8dd4bf3a40b593c2061b0b6": {
          "model_module": "@jupyter-widgets/controls",
          "model_name": "FloatProgressModel",
          "state": {
            "_view_name": "ProgressView",
            "style": "IPY_MODEL_ebe73599e7bd42a893048208dc137b4b",
            "_dom_classes": [],
            "description": "100%",
            "_model_name": "FloatProgressModel",
            "bar_style": "success",
            "max": 375,
            "_view_module": "@jupyter-widgets/controls",
            "_model_module_version": "1.5.0",
            "value": 375,
            "_view_count": null,
            "_view_module_version": "1.5.0",
            "orientation": "horizontal",
            "min": 0,
            "description_tooltip": null,
            "_model_module": "@jupyter-widgets/controls",
            "layout": "IPY_MODEL_211480bee9d340d9b51e05cac198d0c4"
          }
        },
        "da313391c1a14fa1bba63f33a4dd9467": {
          "model_module": "@jupyter-widgets/controls",
          "model_name": "HTMLModel",
          "state": {
            "_view_name": "HTMLView",
            "style": "IPY_MODEL_b70c52c6fb1a4f29844f549e59966b2a",
            "_dom_classes": [],
            "description": "",
            "_model_name": "HTMLModel",
            "placeholder": "​",
            "_view_module": "@jupyter-widgets/controls",
            "_model_module_version": "1.5.0",
            "value": " 375/375 [02:55&lt;00:00,  2.13it/s]",
            "_view_count": null,
            "_view_module_version": "1.5.0",
            "description_tooltip": null,
            "_model_module": "@jupyter-widgets/controls",
            "layout": "IPY_MODEL_03c6d4b6967c4a34b4b33d0d2c4a60ed"
          }
        },
        "ebe73599e7bd42a893048208dc137b4b": {
          "model_module": "@jupyter-widgets/controls",
          "model_name": "ProgressStyleModel",
          "state": {
            "_view_name": "StyleView",
            "_model_name": "ProgressStyleModel",
            "description_width": "initial",
            "_view_module": "@jupyter-widgets/base",
            "_model_module_version": "1.5.0",
            "_view_count": null,
            "_view_module_version": "1.2.0",
            "bar_color": null,
            "_model_module": "@jupyter-widgets/controls"
          }
        },
        "211480bee9d340d9b51e05cac198d0c4": {
          "model_module": "@jupyter-widgets/base",
          "model_name": "LayoutModel",
          "state": {
            "_view_name": "LayoutView",
            "grid_template_rows": null,
            "right": null,
            "justify_content": null,
            "_view_module": "@jupyter-widgets/base",
            "overflow": null,
            "_model_module_version": "1.2.0",
            "_view_count": null,
            "flex_flow": null,
            "width": null,
            "min_width": null,
            "border": null,
            "align_items": null,
            "bottom": null,
            "_model_module": "@jupyter-widgets/base",
            "top": null,
            "grid_column": null,
            "overflow_y": null,
            "overflow_x": null,
            "grid_auto_flow": null,
            "grid_area": null,
            "grid_template_columns": null,
            "flex": null,
            "_model_name": "LayoutModel",
            "justify_items": null,
            "grid_row": null,
            "max_height": null,
            "align_content": null,
            "visibility": null,
            "align_self": null,
            "height": null,
            "min_height": null,
            "padding": null,
            "grid_auto_rows": null,
            "grid_gap": null,
            "max_width": null,
            "order": null,
            "_view_module_version": "1.2.0",
            "grid_template_areas": null,
            "object_position": null,
            "object_fit": null,
            "grid_auto_columns": null,
            "margin": null,
            "display": null,
            "left": null
          }
        },
        "b70c52c6fb1a4f29844f549e59966b2a": {
          "model_module": "@jupyter-widgets/controls",
          "model_name": "DescriptionStyleModel",
          "state": {
            "_view_name": "StyleView",
            "_model_name": "DescriptionStyleModel",
            "description_width": "",
            "_view_module": "@jupyter-widgets/base",
            "_model_module_version": "1.5.0",
            "_view_count": null,
            "_view_module_version": "1.2.0",
            "_model_module": "@jupyter-widgets/controls"
          }
        },
        "03c6d4b6967c4a34b4b33d0d2c4a60ed": {
          "model_module": "@jupyter-widgets/base",
          "model_name": "LayoutModel",
          "state": {
            "_view_name": "LayoutView",
            "grid_template_rows": null,
            "right": null,
            "justify_content": null,
            "_view_module": "@jupyter-widgets/base",
            "overflow": null,
            "_model_module_version": "1.2.0",
            "_view_count": null,
            "flex_flow": null,
            "width": null,
            "min_width": null,
            "border": null,
            "align_items": null,
            "bottom": null,
            "_model_module": "@jupyter-widgets/base",
            "top": null,
            "grid_column": null,
            "overflow_y": null,
            "overflow_x": null,
            "grid_auto_flow": null,
            "grid_area": null,
            "grid_template_columns": null,
            "flex": null,
            "_model_name": "LayoutModel",
            "justify_items": null,
            "grid_row": null,
            "max_height": null,
            "align_content": null,
            "visibility": null,
            "align_self": null,
            "height": null,
            "min_height": null,
            "padding": null,
            "grid_auto_rows": null,
            "grid_gap": null,
            "max_width": null,
            "order": null,
            "_view_module_version": "1.2.0",
            "grid_template_areas": null,
            "object_position": null,
            "object_fit": null,
            "grid_auto_columns": null,
            "margin": null,
            "display": null,
            "left": null
          }
        },
        "75332708ccd2400b885726965437bc83": {
          "model_module": "@jupyter-widgets/controls",
          "model_name": "HBoxModel",
          "state": {
            "_view_name": "HBoxView",
            "_dom_classes": [],
            "_model_name": "HBoxModel",
            "_view_module": "@jupyter-widgets/controls",
            "_model_module_version": "1.5.0",
            "_view_count": null,
            "_view_module_version": "1.5.0",
            "box_style": "",
            "layout": "IPY_MODEL_dfe5c9e365d1492e84137e0f78d30b7c",
            "_model_module": "@jupyter-widgets/controls",
            "children": [
              "IPY_MODEL_5f00aab95a614f00b58cba1b0087ccb5",
              "IPY_MODEL_070d6b7638264c2abb1c6bb17d83464a"
            ]
          }
        },
        "dfe5c9e365d1492e84137e0f78d30b7c": {
          "model_module": "@jupyter-widgets/base",
          "model_name": "LayoutModel",
          "state": {
            "_view_name": "LayoutView",
            "grid_template_rows": null,
            "right": null,
            "justify_content": null,
            "_view_module": "@jupyter-widgets/base",
            "overflow": null,
            "_model_module_version": "1.2.0",
            "_view_count": null,
            "flex_flow": null,
            "width": null,
            "min_width": null,
            "border": null,
            "align_items": null,
            "bottom": null,
            "_model_module": "@jupyter-widgets/base",
            "top": null,
            "grid_column": null,
            "overflow_y": null,
            "overflow_x": null,
            "grid_auto_flow": null,
            "grid_area": null,
            "grid_template_columns": null,
            "flex": null,
            "_model_name": "LayoutModel",
            "justify_items": null,
            "grid_row": null,
            "max_height": null,
            "align_content": null,
            "visibility": null,
            "align_self": null,
            "height": null,
            "min_height": null,
            "padding": null,
            "grid_auto_rows": null,
            "grid_gap": null,
            "max_width": null,
            "order": null,
            "_view_module_version": "1.2.0",
            "grid_template_areas": null,
            "object_position": null,
            "object_fit": null,
            "grid_auto_columns": null,
            "margin": null,
            "display": null,
            "left": null
          }
        },
        "5f00aab95a614f00b58cba1b0087ccb5": {
          "model_module": "@jupyter-widgets/controls",
          "model_name": "FloatProgressModel",
          "state": {
            "_view_name": "ProgressView",
            "style": "IPY_MODEL_8aa9ba577b64435a89dda7b8116bd1c1",
            "_dom_classes": [],
            "description": "100%",
            "_model_name": "FloatProgressModel",
            "bar_style": "success",
            "max": 375,
            "_view_module": "@jupyter-widgets/controls",
            "_model_module_version": "1.5.0",
            "value": 375,
            "_view_count": null,
            "_view_module_version": "1.5.0",
            "orientation": "horizontal",
            "min": 0,
            "description_tooltip": null,
            "_model_module": "@jupyter-widgets/controls",
            "layout": "IPY_MODEL_8fe339557dd143d19bdb1d80ce62127a"
          }
        },
        "070d6b7638264c2abb1c6bb17d83464a": {
          "model_module": "@jupyter-widgets/controls",
          "model_name": "HTMLModel",
          "state": {
            "_view_name": "HTMLView",
            "style": "IPY_MODEL_d693055041c54339b1c0f77b62214e16",
            "_dom_classes": [],
            "description": "",
            "_model_name": "HTMLModel",
            "placeholder": "​",
            "_view_module": "@jupyter-widgets/controls",
            "_model_module_version": "1.5.0",
            "value": " 375/375 [00:22&lt;00:00, 16.64it/s]",
            "_view_count": null,
            "_view_module_version": "1.5.0",
            "description_tooltip": null,
            "_model_module": "@jupyter-widgets/controls",
            "layout": "IPY_MODEL_d447e6f0adf64034a08cef0039af3e0f"
          }
        },
        "8aa9ba577b64435a89dda7b8116bd1c1": {
          "model_module": "@jupyter-widgets/controls",
          "model_name": "ProgressStyleModel",
          "state": {
            "_view_name": "StyleView",
            "_model_name": "ProgressStyleModel",
            "description_width": "initial",
            "_view_module": "@jupyter-widgets/base",
            "_model_module_version": "1.5.0",
            "_view_count": null,
            "_view_module_version": "1.2.0",
            "bar_color": null,
            "_model_module": "@jupyter-widgets/controls"
          }
        },
        "8fe339557dd143d19bdb1d80ce62127a": {
          "model_module": "@jupyter-widgets/base",
          "model_name": "LayoutModel",
          "state": {
            "_view_name": "LayoutView",
            "grid_template_rows": null,
            "right": null,
            "justify_content": null,
            "_view_module": "@jupyter-widgets/base",
            "overflow": null,
            "_model_module_version": "1.2.0",
            "_view_count": null,
            "flex_flow": null,
            "width": null,
            "min_width": null,
            "border": null,
            "align_items": null,
            "bottom": null,
            "_model_module": "@jupyter-widgets/base",
            "top": null,
            "grid_column": null,
            "overflow_y": null,
            "overflow_x": null,
            "grid_auto_flow": null,
            "grid_area": null,
            "grid_template_columns": null,
            "flex": null,
            "_model_name": "LayoutModel",
            "justify_items": null,
            "grid_row": null,
            "max_height": null,
            "align_content": null,
            "visibility": null,
            "align_self": null,
            "height": null,
            "min_height": null,
            "padding": null,
            "grid_auto_rows": null,
            "grid_gap": null,
            "max_width": null,
            "order": null,
            "_view_module_version": "1.2.0",
            "grid_template_areas": null,
            "object_position": null,
            "object_fit": null,
            "grid_auto_columns": null,
            "margin": null,
            "display": null,
            "left": null
          }
        },
        "d693055041c54339b1c0f77b62214e16": {
          "model_module": "@jupyter-widgets/controls",
          "model_name": "DescriptionStyleModel",
          "state": {
            "_view_name": "StyleView",
            "_model_name": "DescriptionStyleModel",
            "description_width": "",
            "_view_module": "@jupyter-widgets/base",
            "_model_module_version": "1.5.0",
            "_view_count": null,
            "_view_module_version": "1.2.0",
            "_model_module": "@jupyter-widgets/controls"
          }
        },
        "d447e6f0adf64034a08cef0039af3e0f": {
          "model_module": "@jupyter-widgets/base",
          "model_name": "LayoutModel",
          "state": {
            "_view_name": "LayoutView",
            "grid_template_rows": null,
            "right": null,
            "justify_content": null,
            "_view_module": "@jupyter-widgets/base",
            "overflow": null,
            "_model_module_version": "1.2.0",
            "_view_count": null,
            "flex_flow": null,
            "width": null,
            "min_width": null,
            "border": null,
            "align_items": null,
            "bottom": null,
            "_model_module": "@jupyter-widgets/base",
            "top": null,
            "grid_column": null,
            "overflow_y": null,
            "overflow_x": null,
            "grid_auto_flow": null,
            "grid_area": null,
            "grid_template_columns": null,
            "flex": null,
            "_model_name": "LayoutModel",
            "justify_items": null,
            "grid_row": null,
            "max_height": null,
            "align_content": null,
            "visibility": null,
            "align_self": null,
            "height": null,
            "min_height": null,
            "padding": null,
            "grid_auto_rows": null,
            "grid_gap": null,
            "max_width": null,
            "order": null,
            "_view_module_version": "1.2.0",
            "grid_template_areas": null,
            "object_position": null,
            "object_fit": null,
            "grid_auto_columns": null,
            "margin": null,
            "display": null,
            "left": null
          }
        },
        "f4c06cae54c54ab6b817eb057c7ef727": {
          "model_module": "@jupyter-widgets/controls",
          "model_name": "HBoxModel",
          "state": {
            "_view_name": "HBoxView",
            "_dom_classes": [],
            "_model_name": "HBoxModel",
            "_view_module": "@jupyter-widgets/controls",
            "_model_module_version": "1.5.0",
            "_view_count": null,
            "_view_module_version": "1.5.0",
            "box_style": "",
            "layout": "IPY_MODEL_48539d75d4b74a43bdd66ee2e05a4d6c",
            "_model_module": "@jupyter-widgets/controls",
            "children": [
              "IPY_MODEL_abb932ae603d4b449cf07a33c6c6112a",
              "IPY_MODEL_e906d5764cf74250ae58b85d222dbeaf"
            ]
          }
        },
        "48539d75d4b74a43bdd66ee2e05a4d6c": {
          "model_module": "@jupyter-widgets/base",
          "model_name": "LayoutModel",
          "state": {
            "_view_name": "LayoutView",
            "grid_template_rows": null,
            "right": null,
            "justify_content": null,
            "_view_module": "@jupyter-widgets/base",
            "overflow": null,
            "_model_module_version": "1.2.0",
            "_view_count": null,
            "flex_flow": null,
            "width": null,
            "min_width": null,
            "border": null,
            "align_items": null,
            "bottom": null,
            "_model_module": "@jupyter-widgets/base",
            "top": null,
            "grid_column": null,
            "overflow_y": null,
            "overflow_x": null,
            "grid_auto_flow": null,
            "grid_area": null,
            "grid_template_columns": null,
            "flex": null,
            "_model_name": "LayoutModel",
            "justify_items": null,
            "grid_row": null,
            "max_height": null,
            "align_content": null,
            "visibility": null,
            "align_self": null,
            "height": null,
            "min_height": null,
            "padding": null,
            "grid_auto_rows": null,
            "grid_gap": null,
            "max_width": null,
            "order": null,
            "_view_module_version": "1.2.0",
            "grid_template_areas": null,
            "object_position": null,
            "object_fit": null,
            "grid_auto_columns": null,
            "margin": null,
            "display": null,
            "left": null
          }
        },
        "abb932ae603d4b449cf07a33c6c6112a": {
          "model_module": "@jupyter-widgets/controls",
          "model_name": "FloatProgressModel",
          "state": {
            "_view_name": "ProgressView",
            "style": "IPY_MODEL_92070fb462404c9e820f86e34b415048",
            "_dom_classes": [],
            "description": "100%",
            "_model_name": "FloatProgressModel",
            "bar_style": "success",
            "max": 375,
            "_view_module": "@jupyter-widgets/controls",
            "_model_module_version": "1.5.0",
            "value": 375,
            "_view_count": null,
            "_view_module_version": "1.5.0",
            "orientation": "horizontal",
            "min": 0,
            "description_tooltip": null,
            "_model_module": "@jupyter-widgets/controls",
            "layout": "IPY_MODEL_c70e40401b5a433bacbc42e366ff637d"
          }
        },
        "e906d5764cf74250ae58b85d222dbeaf": {
          "model_module": "@jupyter-widgets/controls",
          "model_name": "HTMLModel",
          "state": {
            "_view_name": "HTMLView",
            "style": "IPY_MODEL_a12496c52813480bb3a115da2f965850",
            "_dom_classes": [],
            "description": "",
            "_model_name": "HTMLModel",
            "placeholder": "​",
            "_view_module": "@jupyter-widgets/controls",
            "_model_module_version": "1.5.0",
            "value": " 375/375 [02:33&lt;00:00,  2.45it/s]",
            "_view_count": null,
            "_view_module_version": "1.5.0",
            "description_tooltip": null,
            "_model_module": "@jupyter-widgets/controls",
            "layout": "IPY_MODEL_84b17ffb523848288e0ba8e959818424"
          }
        },
        "92070fb462404c9e820f86e34b415048": {
          "model_module": "@jupyter-widgets/controls",
          "model_name": "ProgressStyleModel",
          "state": {
            "_view_name": "StyleView",
            "_model_name": "ProgressStyleModel",
            "description_width": "initial",
            "_view_module": "@jupyter-widgets/base",
            "_model_module_version": "1.5.0",
            "_view_count": null,
            "_view_module_version": "1.2.0",
            "bar_color": null,
            "_model_module": "@jupyter-widgets/controls"
          }
        },
        "c70e40401b5a433bacbc42e366ff637d": {
          "model_module": "@jupyter-widgets/base",
          "model_name": "LayoutModel",
          "state": {
            "_view_name": "LayoutView",
            "grid_template_rows": null,
            "right": null,
            "justify_content": null,
            "_view_module": "@jupyter-widgets/base",
            "overflow": null,
            "_model_module_version": "1.2.0",
            "_view_count": null,
            "flex_flow": null,
            "width": null,
            "min_width": null,
            "border": null,
            "align_items": null,
            "bottom": null,
            "_model_module": "@jupyter-widgets/base",
            "top": null,
            "grid_column": null,
            "overflow_y": null,
            "overflow_x": null,
            "grid_auto_flow": null,
            "grid_area": null,
            "grid_template_columns": null,
            "flex": null,
            "_model_name": "LayoutModel",
            "justify_items": null,
            "grid_row": null,
            "max_height": null,
            "align_content": null,
            "visibility": null,
            "align_self": null,
            "height": null,
            "min_height": null,
            "padding": null,
            "grid_auto_rows": null,
            "grid_gap": null,
            "max_width": null,
            "order": null,
            "_view_module_version": "1.2.0",
            "grid_template_areas": null,
            "object_position": null,
            "object_fit": null,
            "grid_auto_columns": null,
            "margin": null,
            "display": null,
            "left": null
          }
        },
        "a12496c52813480bb3a115da2f965850": {
          "model_module": "@jupyter-widgets/controls",
          "model_name": "DescriptionStyleModel",
          "state": {
            "_view_name": "StyleView",
            "_model_name": "DescriptionStyleModel",
            "description_width": "",
            "_view_module": "@jupyter-widgets/base",
            "_model_module_version": "1.5.0",
            "_view_count": null,
            "_view_module_version": "1.2.0",
            "_model_module": "@jupyter-widgets/controls"
          }
        },
        "84b17ffb523848288e0ba8e959818424": {
          "model_module": "@jupyter-widgets/base",
          "model_name": "LayoutModel",
          "state": {
            "_view_name": "LayoutView",
            "grid_template_rows": null,
            "right": null,
            "justify_content": null,
            "_view_module": "@jupyter-widgets/base",
            "overflow": null,
            "_model_module_version": "1.2.0",
            "_view_count": null,
            "flex_flow": null,
            "width": null,
            "min_width": null,
            "border": null,
            "align_items": null,
            "bottom": null,
            "_model_module": "@jupyter-widgets/base",
            "top": null,
            "grid_column": null,
            "overflow_y": null,
            "overflow_x": null,
            "grid_auto_flow": null,
            "grid_area": null,
            "grid_template_columns": null,
            "flex": null,
            "_model_name": "LayoutModel",
            "justify_items": null,
            "grid_row": null,
            "max_height": null,
            "align_content": null,
            "visibility": null,
            "align_self": null,
            "height": null,
            "min_height": null,
            "padding": null,
            "grid_auto_rows": null,
            "grid_gap": null,
            "max_width": null,
            "order": null,
            "_view_module_version": "1.2.0",
            "grid_template_areas": null,
            "object_position": null,
            "object_fit": null,
            "grid_auto_columns": null,
            "margin": null,
            "display": null,
            "left": null
          }
        },
        "3f41f863ec654d648609cc9f98056a34": {
          "model_module": "@jupyter-widgets/controls",
          "model_name": "HBoxModel",
          "state": {
            "_view_name": "HBoxView",
            "_dom_classes": [],
            "_model_name": "HBoxModel",
            "_view_module": "@jupyter-widgets/controls",
            "_model_module_version": "1.5.0",
            "_view_count": null,
            "_view_module_version": "1.5.0",
            "box_style": "",
            "layout": "IPY_MODEL_bb42a67653c547f1bccc65b71e0f2f83",
            "_model_module": "@jupyter-widgets/controls",
            "children": [
              "IPY_MODEL_173654fcd2b04c1e95f19c617085cab4",
              "IPY_MODEL_fa6a242b0b32497f82dbe6d8e58a4c41"
            ]
          }
        },
        "bb42a67653c547f1bccc65b71e0f2f83": {
          "model_module": "@jupyter-widgets/base",
          "model_name": "LayoutModel",
          "state": {
            "_view_name": "LayoutView",
            "grid_template_rows": null,
            "right": null,
            "justify_content": null,
            "_view_module": "@jupyter-widgets/base",
            "overflow": null,
            "_model_module_version": "1.2.0",
            "_view_count": null,
            "flex_flow": null,
            "width": null,
            "min_width": null,
            "border": null,
            "align_items": null,
            "bottom": null,
            "_model_module": "@jupyter-widgets/base",
            "top": null,
            "grid_column": null,
            "overflow_y": null,
            "overflow_x": null,
            "grid_auto_flow": null,
            "grid_area": null,
            "grid_template_columns": null,
            "flex": null,
            "_model_name": "LayoutModel",
            "justify_items": null,
            "grid_row": null,
            "max_height": null,
            "align_content": null,
            "visibility": null,
            "align_self": null,
            "height": null,
            "min_height": null,
            "padding": null,
            "grid_auto_rows": null,
            "grid_gap": null,
            "max_width": null,
            "order": null,
            "_view_module_version": "1.2.0",
            "grid_template_areas": null,
            "object_position": null,
            "object_fit": null,
            "grid_auto_columns": null,
            "margin": null,
            "display": null,
            "left": null
          }
        },
        "173654fcd2b04c1e95f19c617085cab4": {
          "model_module": "@jupyter-widgets/controls",
          "model_name": "FloatProgressModel",
          "state": {
            "_view_name": "ProgressView",
            "style": "IPY_MODEL_221d56b544e64e239a77f63cb4a5dfe2",
            "_dom_classes": [],
            "description": "100%",
            "_model_name": "FloatProgressModel",
            "bar_style": "success",
            "max": 375,
            "_view_module": "@jupyter-widgets/controls",
            "_model_module_version": "1.5.0",
            "value": 375,
            "_view_count": null,
            "_view_module_version": "1.5.0",
            "orientation": "horizontal",
            "min": 0,
            "description_tooltip": null,
            "_model_module": "@jupyter-widgets/controls",
            "layout": "IPY_MODEL_22ab7259f3b04ebda34c7d7307b327c2"
          }
        },
        "fa6a242b0b32497f82dbe6d8e58a4c41": {
          "model_module": "@jupyter-widgets/controls",
          "model_name": "HTMLModel",
          "state": {
            "_view_name": "HTMLView",
            "style": "IPY_MODEL_805deac7c2194d839c17df1085133363",
            "_dom_classes": [],
            "description": "",
            "_model_name": "HTMLModel",
            "placeholder": "​",
            "_view_module": "@jupyter-widgets/controls",
            "_model_module_version": "1.5.0",
            "value": " 375/375 [02:22&lt;00:00,  2.64it/s]",
            "_view_count": null,
            "_view_module_version": "1.5.0",
            "description_tooltip": null,
            "_model_module": "@jupyter-widgets/controls",
            "layout": "IPY_MODEL_a35d2c9014d240ff8a03748719181c28"
          }
        },
        "221d56b544e64e239a77f63cb4a5dfe2": {
          "model_module": "@jupyter-widgets/controls",
          "model_name": "ProgressStyleModel",
          "state": {
            "_view_name": "StyleView",
            "_model_name": "ProgressStyleModel",
            "description_width": "initial",
            "_view_module": "@jupyter-widgets/base",
            "_model_module_version": "1.5.0",
            "_view_count": null,
            "_view_module_version": "1.2.0",
            "bar_color": null,
            "_model_module": "@jupyter-widgets/controls"
          }
        },
        "22ab7259f3b04ebda34c7d7307b327c2": {
          "model_module": "@jupyter-widgets/base",
          "model_name": "LayoutModel",
          "state": {
            "_view_name": "LayoutView",
            "grid_template_rows": null,
            "right": null,
            "justify_content": null,
            "_view_module": "@jupyter-widgets/base",
            "overflow": null,
            "_model_module_version": "1.2.0",
            "_view_count": null,
            "flex_flow": null,
            "width": null,
            "min_width": null,
            "border": null,
            "align_items": null,
            "bottom": null,
            "_model_module": "@jupyter-widgets/base",
            "top": null,
            "grid_column": null,
            "overflow_y": null,
            "overflow_x": null,
            "grid_auto_flow": null,
            "grid_area": null,
            "grid_template_columns": null,
            "flex": null,
            "_model_name": "LayoutModel",
            "justify_items": null,
            "grid_row": null,
            "max_height": null,
            "align_content": null,
            "visibility": null,
            "align_self": null,
            "height": null,
            "min_height": null,
            "padding": null,
            "grid_auto_rows": null,
            "grid_gap": null,
            "max_width": null,
            "order": null,
            "_view_module_version": "1.2.0",
            "grid_template_areas": null,
            "object_position": null,
            "object_fit": null,
            "grid_auto_columns": null,
            "margin": null,
            "display": null,
            "left": null
          }
        },
        "805deac7c2194d839c17df1085133363": {
          "model_module": "@jupyter-widgets/controls",
          "model_name": "DescriptionStyleModel",
          "state": {
            "_view_name": "StyleView",
            "_model_name": "DescriptionStyleModel",
            "description_width": "",
            "_view_module": "@jupyter-widgets/base",
            "_model_module_version": "1.5.0",
            "_view_count": null,
            "_view_module_version": "1.2.0",
            "_model_module": "@jupyter-widgets/controls"
          }
        },
        "a35d2c9014d240ff8a03748719181c28": {
          "model_module": "@jupyter-widgets/base",
          "model_name": "LayoutModel",
          "state": {
            "_view_name": "LayoutView",
            "grid_template_rows": null,
            "right": null,
            "justify_content": null,
            "_view_module": "@jupyter-widgets/base",
            "overflow": null,
            "_model_module_version": "1.2.0",
            "_view_count": null,
            "flex_flow": null,
            "width": null,
            "min_width": null,
            "border": null,
            "align_items": null,
            "bottom": null,
            "_model_module": "@jupyter-widgets/base",
            "top": null,
            "grid_column": null,
            "overflow_y": null,
            "overflow_x": null,
            "grid_auto_flow": null,
            "grid_area": null,
            "grid_template_columns": null,
            "flex": null,
            "_model_name": "LayoutModel",
            "justify_items": null,
            "grid_row": null,
            "max_height": null,
            "align_content": null,
            "visibility": null,
            "align_self": null,
            "height": null,
            "min_height": null,
            "padding": null,
            "grid_auto_rows": null,
            "grid_gap": null,
            "max_width": null,
            "order": null,
            "_view_module_version": "1.2.0",
            "grid_template_areas": null,
            "object_position": null,
            "object_fit": null,
            "grid_auto_columns": null,
            "margin": null,
            "display": null,
            "left": null
          }
        },
        "35695ea1bf11485382b0af2fb337ca4f": {
          "model_module": "@jupyter-widgets/controls",
          "model_name": "HBoxModel",
          "state": {
            "_view_name": "HBoxView",
            "_dom_classes": [],
            "_model_name": "HBoxModel",
            "_view_module": "@jupyter-widgets/controls",
            "_model_module_version": "1.5.0",
            "_view_count": null,
            "_view_module_version": "1.5.0",
            "box_style": "",
            "layout": "IPY_MODEL_c187dfd8769e4c6fb2cb3cf910f4eb34",
            "_model_module": "@jupyter-widgets/controls",
            "children": [
              "IPY_MODEL_59a920675cee44bdba175698b7fd70bd",
              "IPY_MODEL_ed3bddf598d249c68199b24f04d5b3cb"
            ]
          }
        },
        "c187dfd8769e4c6fb2cb3cf910f4eb34": {
          "model_module": "@jupyter-widgets/base",
          "model_name": "LayoutModel",
          "state": {
            "_view_name": "LayoutView",
            "grid_template_rows": null,
            "right": null,
            "justify_content": null,
            "_view_module": "@jupyter-widgets/base",
            "overflow": null,
            "_model_module_version": "1.2.0",
            "_view_count": null,
            "flex_flow": null,
            "width": null,
            "min_width": null,
            "border": null,
            "align_items": null,
            "bottom": null,
            "_model_module": "@jupyter-widgets/base",
            "top": null,
            "grid_column": null,
            "overflow_y": null,
            "overflow_x": null,
            "grid_auto_flow": null,
            "grid_area": null,
            "grid_template_columns": null,
            "flex": null,
            "_model_name": "LayoutModel",
            "justify_items": null,
            "grid_row": null,
            "max_height": null,
            "align_content": null,
            "visibility": null,
            "align_self": null,
            "height": null,
            "min_height": null,
            "padding": null,
            "grid_auto_rows": null,
            "grid_gap": null,
            "max_width": null,
            "order": null,
            "_view_module_version": "1.2.0",
            "grid_template_areas": null,
            "object_position": null,
            "object_fit": null,
            "grid_auto_columns": null,
            "margin": null,
            "display": null,
            "left": null
          }
        },
        "59a920675cee44bdba175698b7fd70bd": {
          "model_module": "@jupyter-widgets/controls",
          "model_name": "FloatProgressModel",
          "state": {
            "_view_name": "ProgressView",
            "style": "IPY_MODEL_9e46bc032e3e4e889dea2ddb1b0b410c",
            "_dom_classes": [],
            "description": "100%",
            "_model_name": "FloatProgressModel",
            "bar_style": "success",
            "max": 375,
            "_view_module": "@jupyter-widgets/controls",
            "_model_module_version": "1.5.0",
            "value": 375,
            "_view_count": null,
            "_view_module_version": "1.5.0",
            "orientation": "horizontal",
            "min": 0,
            "description_tooltip": null,
            "_model_module": "@jupyter-widgets/controls",
            "layout": "IPY_MODEL_b2c49de4b081423285bed2d9dec7292b"
          }
        },
        "ed3bddf598d249c68199b24f04d5b3cb": {
          "model_module": "@jupyter-widgets/controls",
          "model_name": "HTMLModel",
          "state": {
            "_view_name": "HTMLView",
            "style": "IPY_MODEL_fb14ea994a074b5ca8b8753815a9ec48",
            "_dom_classes": [],
            "description": "",
            "_model_name": "HTMLModel",
            "placeholder": "​",
            "_view_module": "@jupyter-widgets/controls",
            "_model_module_version": "1.5.0",
            "value": " 375/375 [00:22&lt;00:00, 16.32it/s]",
            "_view_count": null,
            "_view_module_version": "1.5.0",
            "description_tooltip": null,
            "_model_module": "@jupyter-widgets/controls",
            "layout": "IPY_MODEL_dab7f54b86d84de69d7dd280caa2411f"
          }
        },
        "9e46bc032e3e4e889dea2ddb1b0b410c": {
          "model_module": "@jupyter-widgets/controls",
          "model_name": "ProgressStyleModel",
          "state": {
            "_view_name": "StyleView",
            "_model_name": "ProgressStyleModel",
            "description_width": "initial",
            "_view_module": "@jupyter-widgets/base",
            "_model_module_version": "1.5.0",
            "_view_count": null,
            "_view_module_version": "1.2.0",
            "bar_color": null,
            "_model_module": "@jupyter-widgets/controls"
          }
        },
        "b2c49de4b081423285bed2d9dec7292b": {
          "model_module": "@jupyter-widgets/base",
          "model_name": "LayoutModel",
          "state": {
            "_view_name": "LayoutView",
            "grid_template_rows": null,
            "right": null,
            "justify_content": null,
            "_view_module": "@jupyter-widgets/base",
            "overflow": null,
            "_model_module_version": "1.2.0",
            "_view_count": null,
            "flex_flow": null,
            "width": null,
            "min_width": null,
            "border": null,
            "align_items": null,
            "bottom": null,
            "_model_module": "@jupyter-widgets/base",
            "top": null,
            "grid_column": null,
            "overflow_y": null,
            "overflow_x": null,
            "grid_auto_flow": null,
            "grid_area": null,
            "grid_template_columns": null,
            "flex": null,
            "_model_name": "LayoutModel",
            "justify_items": null,
            "grid_row": null,
            "max_height": null,
            "align_content": null,
            "visibility": null,
            "align_self": null,
            "height": null,
            "min_height": null,
            "padding": null,
            "grid_auto_rows": null,
            "grid_gap": null,
            "max_width": null,
            "order": null,
            "_view_module_version": "1.2.0",
            "grid_template_areas": null,
            "object_position": null,
            "object_fit": null,
            "grid_auto_columns": null,
            "margin": null,
            "display": null,
            "left": null
          }
        },
        "fb14ea994a074b5ca8b8753815a9ec48": {
          "model_module": "@jupyter-widgets/controls",
          "model_name": "DescriptionStyleModel",
          "state": {
            "_view_name": "StyleView",
            "_model_name": "DescriptionStyleModel",
            "description_width": "",
            "_view_module": "@jupyter-widgets/base",
            "_model_module_version": "1.5.0",
            "_view_count": null,
            "_view_module_version": "1.2.0",
            "_model_module": "@jupyter-widgets/controls"
          }
        },
        "dab7f54b86d84de69d7dd280caa2411f": {
          "model_module": "@jupyter-widgets/base",
          "model_name": "LayoutModel",
          "state": {
            "_view_name": "LayoutView",
            "grid_template_rows": null,
            "right": null,
            "justify_content": null,
            "_view_module": "@jupyter-widgets/base",
            "overflow": null,
            "_model_module_version": "1.2.0",
            "_view_count": null,
            "flex_flow": null,
            "width": null,
            "min_width": null,
            "border": null,
            "align_items": null,
            "bottom": null,
            "_model_module": "@jupyter-widgets/base",
            "top": null,
            "grid_column": null,
            "overflow_y": null,
            "overflow_x": null,
            "grid_auto_flow": null,
            "grid_area": null,
            "grid_template_columns": null,
            "flex": null,
            "_model_name": "LayoutModel",
            "justify_items": null,
            "grid_row": null,
            "max_height": null,
            "align_content": null,
            "visibility": null,
            "align_self": null,
            "height": null,
            "min_height": null,
            "padding": null,
            "grid_auto_rows": null,
            "grid_gap": null,
            "max_width": null,
            "order": null,
            "_view_module_version": "1.2.0",
            "grid_template_areas": null,
            "object_position": null,
            "object_fit": null,
            "grid_auto_columns": null,
            "margin": null,
            "display": null,
            "left": null
          }
        },
        "821e2cbe69784c128ce1e22366bf9461": {
          "model_module": "@jupyter-widgets/controls",
          "model_name": "HBoxModel",
          "state": {
            "_view_name": "HBoxView",
            "_dom_classes": [],
            "_model_name": "HBoxModel",
            "_view_module": "@jupyter-widgets/controls",
            "_model_module_version": "1.5.0",
            "_view_count": null,
            "_view_module_version": "1.5.0",
            "box_style": "",
            "layout": "IPY_MODEL_a62418e4d0d14d43b7aa813bd1367266",
            "_model_module": "@jupyter-widgets/controls",
            "children": [
              "IPY_MODEL_bfe64253dfdd4b1b814afa35aca970ac",
              "IPY_MODEL_6a6ee400d7094a4685b6f8d17cefaeef"
            ]
          }
        },
        "a62418e4d0d14d43b7aa813bd1367266": {
          "model_module": "@jupyter-widgets/base",
          "model_name": "LayoutModel",
          "state": {
            "_view_name": "LayoutView",
            "grid_template_rows": null,
            "right": null,
            "justify_content": null,
            "_view_module": "@jupyter-widgets/base",
            "overflow": null,
            "_model_module_version": "1.2.0",
            "_view_count": null,
            "flex_flow": null,
            "width": null,
            "min_width": null,
            "border": null,
            "align_items": null,
            "bottom": null,
            "_model_module": "@jupyter-widgets/base",
            "top": null,
            "grid_column": null,
            "overflow_y": null,
            "overflow_x": null,
            "grid_auto_flow": null,
            "grid_area": null,
            "grid_template_columns": null,
            "flex": null,
            "_model_name": "LayoutModel",
            "justify_items": null,
            "grid_row": null,
            "max_height": null,
            "align_content": null,
            "visibility": null,
            "align_self": null,
            "height": null,
            "min_height": null,
            "padding": null,
            "grid_auto_rows": null,
            "grid_gap": null,
            "max_width": null,
            "order": null,
            "_view_module_version": "1.2.0",
            "grid_template_areas": null,
            "object_position": null,
            "object_fit": null,
            "grid_auto_columns": null,
            "margin": null,
            "display": null,
            "left": null
          }
        },
        "bfe64253dfdd4b1b814afa35aca970ac": {
          "model_module": "@jupyter-widgets/controls",
          "model_name": "FloatProgressModel",
          "state": {
            "_view_name": "ProgressView",
            "style": "IPY_MODEL_4754e31ffc7541e59b895404511b44d0",
            "_dom_classes": [],
            "description": "100%",
            "_model_name": "FloatProgressModel",
            "bar_style": "success",
            "max": 375,
            "_view_module": "@jupyter-widgets/controls",
            "_model_module_version": "1.5.0",
            "value": 375,
            "_view_count": null,
            "_view_module_version": "1.5.0",
            "orientation": "horizontal",
            "min": 0,
            "description_tooltip": null,
            "_model_module": "@jupyter-widgets/controls",
            "layout": "IPY_MODEL_c3dafc8a996643879ecbd26d696a4d7e"
          }
        },
        "6a6ee400d7094a4685b6f8d17cefaeef": {
          "model_module": "@jupyter-widgets/controls",
          "model_name": "HTMLModel",
          "state": {
            "_view_name": "HTMLView",
            "style": "IPY_MODEL_0aa6bddd2a85411786a55c06aaddaba0",
            "_dom_classes": [],
            "description": "",
            "_model_name": "HTMLModel",
            "placeholder": "​",
            "_view_module": "@jupyter-widgets/controls",
            "_model_module_version": "1.5.0",
            "value": " 375/375 [01:58&lt;00:00,  3.16it/s]",
            "_view_count": null,
            "_view_module_version": "1.5.0",
            "description_tooltip": null,
            "_model_module": "@jupyter-widgets/controls",
            "layout": "IPY_MODEL_56971dd7493c41c8a82cc21b9ad02c0b"
          }
        },
        "4754e31ffc7541e59b895404511b44d0": {
          "model_module": "@jupyter-widgets/controls",
          "model_name": "ProgressStyleModel",
          "state": {
            "_view_name": "StyleView",
            "_model_name": "ProgressStyleModel",
            "description_width": "initial",
            "_view_module": "@jupyter-widgets/base",
            "_model_module_version": "1.5.0",
            "_view_count": null,
            "_view_module_version": "1.2.0",
            "bar_color": null,
            "_model_module": "@jupyter-widgets/controls"
          }
        },
        "c3dafc8a996643879ecbd26d696a4d7e": {
          "model_module": "@jupyter-widgets/base",
          "model_name": "LayoutModel",
          "state": {
            "_view_name": "LayoutView",
            "grid_template_rows": null,
            "right": null,
            "justify_content": null,
            "_view_module": "@jupyter-widgets/base",
            "overflow": null,
            "_model_module_version": "1.2.0",
            "_view_count": null,
            "flex_flow": null,
            "width": null,
            "min_width": null,
            "border": null,
            "align_items": null,
            "bottom": null,
            "_model_module": "@jupyter-widgets/base",
            "top": null,
            "grid_column": null,
            "overflow_y": null,
            "overflow_x": null,
            "grid_auto_flow": null,
            "grid_area": null,
            "grid_template_columns": null,
            "flex": null,
            "_model_name": "LayoutModel",
            "justify_items": null,
            "grid_row": null,
            "max_height": null,
            "align_content": null,
            "visibility": null,
            "align_self": null,
            "height": null,
            "min_height": null,
            "padding": null,
            "grid_auto_rows": null,
            "grid_gap": null,
            "max_width": null,
            "order": null,
            "_view_module_version": "1.2.0",
            "grid_template_areas": null,
            "object_position": null,
            "object_fit": null,
            "grid_auto_columns": null,
            "margin": null,
            "display": null,
            "left": null
          }
        },
        "0aa6bddd2a85411786a55c06aaddaba0": {
          "model_module": "@jupyter-widgets/controls",
          "model_name": "DescriptionStyleModel",
          "state": {
            "_view_name": "StyleView",
            "_model_name": "DescriptionStyleModel",
            "description_width": "",
            "_view_module": "@jupyter-widgets/base",
            "_model_module_version": "1.5.0",
            "_view_count": null,
            "_view_module_version": "1.2.0",
            "_model_module": "@jupyter-widgets/controls"
          }
        },
        "56971dd7493c41c8a82cc21b9ad02c0b": {
          "model_module": "@jupyter-widgets/base",
          "model_name": "LayoutModel",
          "state": {
            "_view_name": "LayoutView",
            "grid_template_rows": null,
            "right": null,
            "justify_content": null,
            "_view_module": "@jupyter-widgets/base",
            "overflow": null,
            "_model_module_version": "1.2.0",
            "_view_count": null,
            "flex_flow": null,
            "width": null,
            "min_width": null,
            "border": null,
            "align_items": null,
            "bottom": null,
            "_model_module": "@jupyter-widgets/base",
            "top": null,
            "grid_column": null,
            "overflow_y": null,
            "overflow_x": null,
            "grid_auto_flow": null,
            "grid_area": null,
            "grid_template_columns": null,
            "flex": null,
            "_model_name": "LayoutModel",
            "justify_items": null,
            "grid_row": null,
            "max_height": null,
            "align_content": null,
            "visibility": null,
            "align_self": null,
            "height": null,
            "min_height": null,
            "padding": null,
            "grid_auto_rows": null,
            "grid_gap": null,
            "max_width": null,
            "order": null,
            "_view_module_version": "1.2.0",
            "grid_template_areas": null,
            "object_position": null,
            "object_fit": null,
            "grid_auto_columns": null,
            "margin": null,
            "display": null,
            "left": null
          }
        },
        "c170151115294c3cb0ab3ff05aa7277a": {
          "model_module": "@jupyter-widgets/controls",
          "model_name": "HBoxModel",
          "state": {
            "_view_name": "HBoxView",
            "_dom_classes": [],
            "_model_name": "HBoxModel",
            "_view_module": "@jupyter-widgets/controls",
            "_model_module_version": "1.5.0",
            "_view_count": null,
            "_view_module_version": "1.5.0",
            "box_style": "",
            "layout": "IPY_MODEL_92cc2f7f0d0f4b77b1e9f8f2cdbd9f86",
            "_model_module": "@jupyter-widgets/controls",
            "children": [
              "IPY_MODEL_ffa526b2f7fa407996f05fe07e0f51f2",
              "IPY_MODEL_3a1f136045aa4c728174dcfb74e2ea87"
            ]
          }
        },
        "92cc2f7f0d0f4b77b1e9f8f2cdbd9f86": {
          "model_module": "@jupyter-widgets/base",
          "model_name": "LayoutModel",
          "state": {
            "_view_name": "LayoutView",
            "grid_template_rows": null,
            "right": null,
            "justify_content": null,
            "_view_module": "@jupyter-widgets/base",
            "overflow": null,
            "_model_module_version": "1.2.0",
            "_view_count": null,
            "flex_flow": null,
            "width": null,
            "min_width": null,
            "border": null,
            "align_items": null,
            "bottom": null,
            "_model_module": "@jupyter-widgets/base",
            "top": null,
            "grid_column": null,
            "overflow_y": null,
            "overflow_x": null,
            "grid_auto_flow": null,
            "grid_area": null,
            "grid_template_columns": null,
            "flex": null,
            "_model_name": "LayoutModel",
            "justify_items": null,
            "grid_row": null,
            "max_height": null,
            "align_content": null,
            "visibility": null,
            "align_self": null,
            "height": null,
            "min_height": null,
            "padding": null,
            "grid_auto_rows": null,
            "grid_gap": null,
            "max_width": null,
            "order": null,
            "_view_module_version": "1.2.0",
            "grid_template_areas": null,
            "object_position": null,
            "object_fit": null,
            "grid_auto_columns": null,
            "margin": null,
            "display": null,
            "left": null
          }
        },
        "ffa526b2f7fa407996f05fe07e0f51f2": {
          "model_module": "@jupyter-widgets/controls",
          "model_name": "FloatProgressModel",
          "state": {
            "_view_name": "ProgressView",
            "style": "IPY_MODEL_427a15d0669e44658d727da123542d1c",
            "_dom_classes": [],
            "description": "100%",
            "_model_name": "FloatProgressModel",
            "bar_style": "success",
            "max": 375,
            "_view_module": "@jupyter-widgets/controls",
            "_model_module_version": "1.5.0",
            "value": 375,
            "_view_count": null,
            "_view_module_version": "1.5.0",
            "orientation": "horizontal",
            "min": 0,
            "description_tooltip": null,
            "_model_module": "@jupyter-widgets/controls",
            "layout": "IPY_MODEL_6bbcba202e9f4e61b5988c93a76b4ca0"
          }
        },
        "3a1f136045aa4c728174dcfb74e2ea87": {
          "model_module": "@jupyter-widgets/controls",
          "model_name": "HTMLModel",
          "state": {
            "_view_name": "HTMLView",
            "style": "IPY_MODEL_caca618e983743c683706e11a6318b81",
            "_dom_classes": [],
            "description": "",
            "_model_name": "HTMLModel",
            "placeholder": "​",
            "_view_module": "@jupyter-widgets/controls",
            "_model_module_version": "1.5.0",
            "value": " 375/375 [01:47&lt;00:00,  3.50it/s]",
            "_view_count": null,
            "_view_module_version": "1.5.0",
            "description_tooltip": null,
            "_model_module": "@jupyter-widgets/controls",
            "layout": "IPY_MODEL_469c1180c8be42c1b9d38a94c3a4376a"
          }
        },
        "427a15d0669e44658d727da123542d1c": {
          "model_module": "@jupyter-widgets/controls",
          "model_name": "ProgressStyleModel",
          "state": {
            "_view_name": "StyleView",
            "_model_name": "ProgressStyleModel",
            "description_width": "initial",
            "_view_module": "@jupyter-widgets/base",
            "_model_module_version": "1.5.0",
            "_view_count": null,
            "_view_module_version": "1.2.0",
            "bar_color": null,
            "_model_module": "@jupyter-widgets/controls"
          }
        },
        "6bbcba202e9f4e61b5988c93a76b4ca0": {
          "model_module": "@jupyter-widgets/base",
          "model_name": "LayoutModel",
          "state": {
            "_view_name": "LayoutView",
            "grid_template_rows": null,
            "right": null,
            "justify_content": null,
            "_view_module": "@jupyter-widgets/base",
            "overflow": null,
            "_model_module_version": "1.2.0",
            "_view_count": null,
            "flex_flow": null,
            "width": null,
            "min_width": null,
            "border": null,
            "align_items": null,
            "bottom": null,
            "_model_module": "@jupyter-widgets/base",
            "top": null,
            "grid_column": null,
            "overflow_y": null,
            "overflow_x": null,
            "grid_auto_flow": null,
            "grid_area": null,
            "grid_template_columns": null,
            "flex": null,
            "_model_name": "LayoutModel",
            "justify_items": null,
            "grid_row": null,
            "max_height": null,
            "align_content": null,
            "visibility": null,
            "align_self": null,
            "height": null,
            "min_height": null,
            "padding": null,
            "grid_auto_rows": null,
            "grid_gap": null,
            "max_width": null,
            "order": null,
            "_view_module_version": "1.2.0",
            "grid_template_areas": null,
            "object_position": null,
            "object_fit": null,
            "grid_auto_columns": null,
            "margin": null,
            "display": null,
            "left": null
          }
        },
        "caca618e983743c683706e11a6318b81": {
          "model_module": "@jupyter-widgets/controls",
          "model_name": "DescriptionStyleModel",
          "state": {
            "_view_name": "StyleView",
            "_model_name": "DescriptionStyleModel",
            "description_width": "",
            "_view_module": "@jupyter-widgets/base",
            "_model_module_version": "1.5.0",
            "_view_count": null,
            "_view_module_version": "1.2.0",
            "_model_module": "@jupyter-widgets/controls"
          }
        },
        "469c1180c8be42c1b9d38a94c3a4376a": {
          "model_module": "@jupyter-widgets/base",
          "model_name": "LayoutModel",
          "state": {
            "_view_name": "LayoutView",
            "grid_template_rows": null,
            "right": null,
            "justify_content": null,
            "_view_module": "@jupyter-widgets/base",
            "overflow": null,
            "_model_module_version": "1.2.0",
            "_view_count": null,
            "flex_flow": null,
            "width": null,
            "min_width": null,
            "border": null,
            "align_items": null,
            "bottom": null,
            "_model_module": "@jupyter-widgets/base",
            "top": null,
            "grid_column": null,
            "overflow_y": null,
            "overflow_x": null,
            "grid_auto_flow": null,
            "grid_area": null,
            "grid_template_columns": null,
            "flex": null,
            "_model_name": "LayoutModel",
            "justify_items": null,
            "grid_row": null,
            "max_height": null,
            "align_content": null,
            "visibility": null,
            "align_self": null,
            "height": null,
            "min_height": null,
            "padding": null,
            "grid_auto_rows": null,
            "grid_gap": null,
            "max_width": null,
            "order": null,
            "_view_module_version": "1.2.0",
            "grid_template_areas": null,
            "object_position": null,
            "object_fit": null,
            "grid_auto_columns": null,
            "margin": null,
            "display": null,
            "left": null
          }
        },
        "f44ad185d8954754a93fb3cfb24a373e": {
          "model_module": "@jupyter-widgets/controls",
          "model_name": "HBoxModel",
          "state": {
            "_view_name": "HBoxView",
            "_dom_classes": [],
            "_model_name": "HBoxModel",
            "_view_module": "@jupyter-widgets/controls",
            "_model_module_version": "1.5.0",
            "_view_count": null,
            "_view_module_version": "1.5.0",
            "box_style": "",
            "layout": "IPY_MODEL_450987450e834e5989523064060ea75f",
            "_model_module": "@jupyter-widgets/controls",
            "children": [
              "IPY_MODEL_e429e753fdbc49268aed94a7c23630c0",
              "IPY_MODEL_7dfe1efdbe294b9bb1fa977427b6dd94"
            ]
          }
        },
        "450987450e834e5989523064060ea75f": {
          "model_module": "@jupyter-widgets/base",
          "model_name": "LayoutModel",
          "state": {
            "_view_name": "LayoutView",
            "grid_template_rows": null,
            "right": null,
            "justify_content": null,
            "_view_module": "@jupyter-widgets/base",
            "overflow": null,
            "_model_module_version": "1.2.0",
            "_view_count": null,
            "flex_flow": null,
            "width": null,
            "min_width": null,
            "border": null,
            "align_items": null,
            "bottom": null,
            "_model_module": "@jupyter-widgets/base",
            "top": null,
            "grid_column": null,
            "overflow_y": null,
            "overflow_x": null,
            "grid_auto_flow": null,
            "grid_area": null,
            "grid_template_columns": null,
            "flex": null,
            "_model_name": "LayoutModel",
            "justify_items": null,
            "grid_row": null,
            "max_height": null,
            "align_content": null,
            "visibility": null,
            "align_self": null,
            "height": null,
            "min_height": null,
            "padding": null,
            "grid_auto_rows": null,
            "grid_gap": null,
            "max_width": null,
            "order": null,
            "_view_module_version": "1.2.0",
            "grid_template_areas": null,
            "object_position": null,
            "object_fit": null,
            "grid_auto_columns": null,
            "margin": null,
            "display": null,
            "left": null
          }
        },
        "e429e753fdbc49268aed94a7c23630c0": {
          "model_module": "@jupyter-widgets/controls",
          "model_name": "FloatProgressModel",
          "state": {
            "_view_name": "ProgressView",
            "style": "IPY_MODEL_d6b2e3f06a7c422a8f32cdab33785132",
            "_dom_classes": [],
            "description": "100%",
            "_model_name": "FloatProgressModel",
            "bar_style": "success",
            "max": 375,
            "_view_module": "@jupyter-widgets/controls",
            "_model_module_version": "1.5.0",
            "value": 375,
            "_view_count": null,
            "_view_module_version": "1.5.0",
            "orientation": "horizontal",
            "min": 0,
            "description_tooltip": null,
            "_model_module": "@jupyter-widgets/controls",
            "layout": "IPY_MODEL_677b68c1e6794947bc61a610f5c00e0f"
          }
        },
        "7dfe1efdbe294b9bb1fa977427b6dd94": {
          "model_module": "@jupyter-widgets/controls",
          "model_name": "HTMLModel",
          "state": {
            "_view_name": "HTMLView",
            "style": "IPY_MODEL_59ba654d2fd741ff8bc66c49df945053",
            "_dom_classes": [],
            "description": "",
            "_model_name": "HTMLModel",
            "placeholder": "​",
            "_view_module": "@jupyter-widgets/controls",
            "_model_module_version": "1.5.0",
            "value": " 375/375 [01:35&lt;00:00,  3.92it/s]",
            "_view_count": null,
            "_view_module_version": "1.5.0",
            "description_tooltip": null,
            "_model_module": "@jupyter-widgets/controls",
            "layout": "IPY_MODEL_d662cfbe47c74b7fbad5b4ad9fb94383"
          }
        },
        "d6b2e3f06a7c422a8f32cdab33785132": {
          "model_module": "@jupyter-widgets/controls",
          "model_name": "ProgressStyleModel",
          "state": {
            "_view_name": "StyleView",
            "_model_name": "ProgressStyleModel",
            "description_width": "initial",
            "_view_module": "@jupyter-widgets/base",
            "_model_module_version": "1.5.0",
            "_view_count": null,
            "_view_module_version": "1.2.0",
            "bar_color": null,
            "_model_module": "@jupyter-widgets/controls"
          }
        },
        "677b68c1e6794947bc61a610f5c00e0f": {
          "model_module": "@jupyter-widgets/base",
          "model_name": "LayoutModel",
          "state": {
            "_view_name": "LayoutView",
            "grid_template_rows": null,
            "right": null,
            "justify_content": null,
            "_view_module": "@jupyter-widgets/base",
            "overflow": null,
            "_model_module_version": "1.2.0",
            "_view_count": null,
            "flex_flow": null,
            "width": null,
            "min_width": null,
            "border": null,
            "align_items": null,
            "bottom": null,
            "_model_module": "@jupyter-widgets/base",
            "top": null,
            "grid_column": null,
            "overflow_y": null,
            "overflow_x": null,
            "grid_auto_flow": null,
            "grid_area": null,
            "grid_template_columns": null,
            "flex": null,
            "_model_name": "LayoutModel",
            "justify_items": null,
            "grid_row": null,
            "max_height": null,
            "align_content": null,
            "visibility": null,
            "align_self": null,
            "height": null,
            "min_height": null,
            "padding": null,
            "grid_auto_rows": null,
            "grid_gap": null,
            "max_width": null,
            "order": null,
            "_view_module_version": "1.2.0",
            "grid_template_areas": null,
            "object_position": null,
            "object_fit": null,
            "grid_auto_columns": null,
            "margin": null,
            "display": null,
            "left": null
          }
        },
        "59ba654d2fd741ff8bc66c49df945053": {
          "model_module": "@jupyter-widgets/controls",
          "model_name": "DescriptionStyleModel",
          "state": {
            "_view_name": "StyleView",
            "_model_name": "DescriptionStyleModel",
            "description_width": "",
            "_view_module": "@jupyter-widgets/base",
            "_model_module_version": "1.5.0",
            "_view_count": null,
            "_view_module_version": "1.2.0",
            "_model_module": "@jupyter-widgets/controls"
          }
        },
        "d662cfbe47c74b7fbad5b4ad9fb94383": {
          "model_module": "@jupyter-widgets/base",
          "model_name": "LayoutModel",
          "state": {
            "_view_name": "LayoutView",
            "grid_template_rows": null,
            "right": null,
            "justify_content": null,
            "_view_module": "@jupyter-widgets/base",
            "overflow": null,
            "_model_module_version": "1.2.0",
            "_view_count": null,
            "flex_flow": null,
            "width": null,
            "min_width": null,
            "border": null,
            "align_items": null,
            "bottom": null,
            "_model_module": "@jupyter-widgets/base",
            "top": null,
            "grid_column": null,
            "overflow_y": null,
            "overflow_x": null,
            "grid_auto_flow": null,
            "grid_area": null,
            "grid_template_columns": null,
            "flex": null,
            "_model_name": "LayoutModel",
            "justify_items": null,
            "grid_row": null,
            "max_height": null,
            "align_content": null,
            "visibility": null,
            "align_self": null,
            "height": null,
            "min_height": null,
            "padding": null,
            "grid_auto_rows": null,
            "grid_gap": null,
            "max_width": null,
            "order": null,
            "_view_module_version": "1.2.0",
            "grid_template_areas": null,
            "object_position": null,
            "object_fit": null,
            "grid_auto_columns": null,
            "margin": null,
            "display": null,
            "left": null
          }
        },
        "c169f13805f447929eb6d546a99350b3": {
          "model_module": "@jupyter-widgets/controls",
          "model_name": "HBoxModel",
          "state": {
            "_view_name": "HBoxView",
            "_dom_classes": [],
            "_model_name": "HBoxModel",
            "_view_module": "@jupyter-widgets/controls",
            "_model_module_version": "1.5.0",
            "_view_count": null,
            "_view_module_version": "1.5.0",
            "box_style": "",
            "layout": "IPY_MODEL_dc160f3c90c94505824caf072893a3ef",
            "_model_module": "@jupyter-widgets/controls",
            "children": [
              "IPY_MODEL_2c9bca255f7d4152aaa4f740de11f3c3",
              "IPY_MODEL_bc326d44f6074c1daaf2e8a51589a4bd"
            ]
          }
        },
        "dc160f3c90c94505824caf072893a3ef": {
          "model_module": "@jupyter-widgets/base",
          "model_name": "LayoutModel",
          "state": {
            "_view_name": "LayoutView",
            "grid_template_rows": null,
            "right": null,
            "justify_content": null,
            "_view_module": "@jupyter-widgets/base",
            "overflow": null,
            "_model_module_version": "1.2.0",
            "_view_count": null,
            "flex_flow": null,
            "width": null,
            "min_width": null,
            "border": null,
            "align_items": null,
            "bottom": null,
            "_model_module": "@jupyter-widgets/base",
            "top": null,
            "grid_column": null,
            "overflow_y": null,
            "overflow_x": null,
            "grid_auto_flow": null,
            "grid_area": null,
            "grid_template_columns": null,
            "flex": null,
            "_model_name": "LayoutModel",
            "justify_items": null,
            "grid_row": null,
            "max_height": null,
            "align_content": null,
            "visibility": null,
            "align_self": null,
            "height": null,
            "min_height": null,
            "padding": null,
            "grid_auto_rows": null,
            "grid_gap": null,
            "max_width": null,
            "order": null,
            "_view_module_version": "1.2.0",
            "grid_template_areas": null,
            "object_position": null,
            "object_fit": null,
            "grid_auto_columns": null,
            "margin": null,
            "display": null,
            "left": null
          }
        },
        "2c9bca255f7d4152aaa4f740de11f3c3": {
          "model_module": "@jupyter-widgets/controls",
          "model_name": "FloatProgressModel",
          "state": {
            "_view_name": "ProgressView",
            "style": "IPY_MODEL_dd15e654210a42d4905b12a7a01c95ca",
            "_dom_classes": [],
            "description": "100%",
            "_model_name": "FloatProgressModel",
            "bar_style": "success",
            "max": 375,
            "_view_module": "@jupyter-widgets/controls",
            "_model_module_version": "1.5.0",
            "value": 375,
            "_view_count": null,
            "_view_module_version": "1.5.0",
            "orientation": "horizontal",
            "min": 0,
            "description_tooltip": null,
            "_model_module": "@jupyter-widgets/controls",
            "layout": "IPY_MODEL_8efb75bbde63439997bd7feb5c7f0635"
          }
        },
        "bc326d44f6074c1daaf2e8a51589a4bd": {
          "model_module": "@jupyter-widgets/controls",
          "model_name": "HTMLModel",
          "state": {
            "_view_name": "HTMLView",
            "style": "IPY_MODEL_e19bb93cea7d48b78dd465ba43ec9564",
            "_dom_classes": [],
            "description": "",
            "_model_name": "HTMLModel",
            "placeholder": "​",
            "_view_module": "@jupyter-widgets/controls",
            "_model_module_version": "1.5.0",
            "value": " 375/375 [01:24&lt;00:00,  4.45it/s]",
            "_view_count": null,
            "_view_module_version": "1.5.0",
            "description_tooltip": null,
            "_model_module": "@jupyter-widgets/controls",
            "layout": "IPY_MODEL_ce66a133fd1640a7a715f70f82149297"
          }
        },
        "dd15e654210a42d4905b12a7a01c95ca": {
          "model_module": "@jupyter-widgets/controls",
          "model_name": "ProgressStyleModel",
          "state": {
            "_view_name": "StyleView",
            "_model_name": "ProgressStyleModel",
            "description_width": "initial",
            "_view_module": "@jupyter-widgets/base",
            "_model_module_version": "1.5.0",
            "_view_count": null,
            "_view_module_version": "1.2.0",
            "bar_color": null,
            "_model_module": "@jupyter-widgets/controls"
          }
        },
        "8efb75bbde63439997bd7feb5c7f0635": {
          "model_module": "@jupyter-widgets/base",
          "model_name": "LayoutModel",
          "state": {
            "_view_name": "LayoutView",
            "grid_template_rows": null,
            "right": null,
            "justify_content": null,
            "_view_module": "@jupyter-widgets/base",
            "overflow": null,
            "_model_module_version": "1.2.0",
            "_view_count": null,
            "flex_flow": null,
            "width": null,
            "min_width": null,
            "border": null,
            "align_items": null,
            "bottom": null,
            "_model_module": "@jupyter-widgets/base",
            "top": null,
            "grid_column": null,
            "overflow_y": null,
            "overflow_x": null,
            "grid_auto_flow": null,
            "grid_area": null,
            "grid_template_columns": null,
            "flex": null,
            "_model_name": "LayoutModel",
            "justify_items": null,
            "grid_row": null,
            "max_height": null,
            "align_content": null,
            "visibility": null,
            "align_self": null,
            "height": null,
            "min_height": null,
            "padding": null,
            "grid_auto_rows": null,
            "grid_gap": null,
            "max_width": null,
            "order": null,
            "_view_module_version": "1.2.0",
            "grid_template_areas": null,
            "object_position": null,
            "object_fit": null,
            "grid_auto_columns": null,
            "margin": null,
            "display": null,
            "left": null
          }
        },
        "e19bb93cea7d48b78dd465ba43ec9564": {
          "model_module": "@jupyter-widgets/controls",
          "model_name": "DescriptionStyleModel",
          "state": {
            "_view_name": "StyleView",
            "_model_name": "DescriptionStyleModel",
            "description_width": "",
            "_view_module": "@jupyter-widgets/base",
            "_model_module_version": "1.5.0",
            "_view_count": null,
            "_view_module_version": "1.2.0",
            "_model_module": "@jupyter-widgets/controls"
          }
        },
        "ce66a133fd1640a7a715f70f82149297": {
          "model_module": "@jupyter-widgets/base",
          "model_name": "LayoutModel",
          "state": {
            "_view_name": "LayoutView",
            "grid_template_rows": null,
            "right": null,
            "justify_content": null,
            "_view_module": "@jupyter-widgets/base",
            "overflow": null,
            "_model_module_version": "1.2.0",
            "_view_count": null,
            "flex_flow": null,
            "width": null,
            "min_width": null,
            "border": null,
            "align_items": null,
            "bottom": null,
            "_model_module": "@jupyter-widgets/base",
            "top": null,
            "grid_column": null,
            "overflow_y": null,
            "overflow_x": null,
            "grid_auto_flow": null,
            "grid_area": null,
            "grid_template_columns": null,
            "flex": null,
            "_model_name": "LayoutModel",
            "justify_items": null,
            "grid_row": null,
            "max_height": null,
            "align_content": null,
            "visibility": null,
            "align_self": null,
            "height": null,
            "min_height": null,
            "padding": null,
            "grid_auto_rows": null,
            "grid_gap": null,
            "max_width": null,
            "order": null,
            "_view_module_version": "1.2.0",
            "grid_template_areas": null,
            "object_position": null,
            "object_fit": null,
            "grid_auto_columns": null,
            "margin": null,
            "display": null,
            "left": null
          }
        }
      }
    }
  },
  "cells": [
    {
      "cell_type": "markdown",
      "metadata": {
        "id": "gau9xEXMGY8s"
      },
      "source": [
        "# CS 447 HW4 - Using Attention for Neural Machine Translation\n",
        "In this notebook we are going to perform machine translation using a deep learning based approach and attention mechanism.\n",
        "\n",
        "Specifically, we are going to train a sequence to sequence model for Spanish to English translation.  We will use Sequence to Sequence Models for this Assignment. In this assignment you only need tto implement the encoder and decoder, we implement all the data loading for you. Please **refer** to the following resources for more details:\n",
        "\n",
        "1.   https://papers.nips.cc/paper/5346-sequence-to-sequence-learning-with-neural-networks.pdf\n",
        "2.   https://pytorch.org/tutorials/intermediate/seq2seq_translation_tutorial.html\n",
        "3. https://arxiv.org/pdf/1409.0473.pdf\n",
        "\n"
      ]
    },
    {
      "cell_type": "code",
      "metadata": {
        "id": "H9mf5x3zHp1A"
      },
      "source": [
        "from collections import defaultdict\n",
        "import nltk\n",
        "from nltk.translate.bleu_score import sentence_bleu, SmoothingFunction, corpus_bleu\n",
        "import numpy as np\n",
        "import pandas as pd\n",
        "import pickle\n",
        "import re\n",
        "import time\n",
        "import torch\n",
        "import torch.nn as nn\n",
        "import torch.nn.functional as F\n",
        "from torch.nn.utils.rnn import pack_padded_sequence, pad_packed_sequence\n",
        "from torch.utils.data import Dataset, DataLoader\n",
        "from tqdm.notebook import tqdm\n",
        "import unicodedata\n",
        "\n",
        "if __name__ == '__main__':\n",
        "    device = torch.device('cuda' if torch.cuda.is_available() else 'cpu')"
      ],
      "execution_count": 1,
      "outputs": []
    },
    {
      "cell_type": "markdown",
      "metadata": {
        "id": "yvR1U28i6Itb"
      },
      "source": [
        "# Helper Functions"
      ]
    },
    {
      "cell_type": "code",
      "metadata": {
        "id": "k_WR8vEGMQyS"
      },
      "source": [
        "# Converts the unicode file to ascii\n",
        "def unicode_to_ascii(s):\n",
        "    \"\"\"Normalizes latin chars with accent to their canonical decomposition\"\"\"\n",
        "    return ''.join(c for c in unicodedata.normalize('NFD', s)\n",
        "        if unicodedata.category(c) != 'Mn')\n",
        "\n",
        "\n",
        "# Preprocessing the sentence to add the start, end tokens and make them lower-case\n",
        "def preprocess_sentence(w):\n",
        "    w = unicode_to_ascii(w.lower().strip())\n",
        "    w = re.sub(r'([?.!,¿])', r' \\1 ', w)\n",
        "    w = re.sub(r'[\" \"]+', ' ', w)\n",
        "\n",
        "    w = re.sub(r'[^a-zA-Z?.!,¿]+', ' ', w)\n",
        "    \n",
        "    w = w.rstrip().strip()\n",
        "    w = '<start> ' + w + ' <end>'\n",
        "    return w\n",
        "\n",
        "\n",
        "def max_length(tensor):\n",
        "    return max(len(t) for t in tensor)\n",
        "\n",
        "\n",
        "def pad_sequences(x, max_len):\n",
        "    padded = np.zeros((max_len), dtype=np.int64)\n",
        "    if len(x) > max_len:\n",
        "        padded[:] = x[:max_len]\n",
        "    else:\n",
        "        padded[:len(x)] = x\n",
        "    return padded\n",
        "\n",
        "\n",
        "def preprocess_data_to_tensor(dataframe, inp_lang, targ_lang):\n",
        "    # Vectorize the input and target languages\n",
        "    input_tensor = [[inp_lang.word2idx[s if s in inp_lang.vocab else '<unk>'] for s in es.split(' ')] for es in dataframe['es'].values.tolist()]\n",
        "    target_tensor = [[targ_lang.word2idx[s if s in targ_lang.vocab else '<unk>'] for s in eng.split(' ')] for eng in dataframe['eng'].values.tolist()]\n",
        "\n",
        "    # calculate the max_length of input and output tensor for padding\n",
        "    max_length_inp, max_length_tar = max_length(input_tensor), max_length(target_tensor)\n",
        "    print('max_length_inp: {}, max_length_tar: {}'.format(max_length_inp, max_length_tar))\n",
        "\n",
        "    # pad all the sentences in the dataset with the max_length\n",
        "    input_tensor = [pad_sequences(x, max_length_inp) for x in input_tensor]\n",
        "    target_tensor = [pad_sequences(x, max_length_tar) for x in target_tensor]\n",
        "\n",
        "    return input_tensor, target_tensor, max_length_inp, max_length_tar\n",
        "\n",
        "\n",
        "def train_val_split(input_tensor, target_tensor):\n",
        "    \"\"\"Creating training and test/val sets using an 80-20 split\"\"\"\n",
        "    total_num_examples = len(input_tensor)\n",
        "    num_val = int(total_num_examples/5)\n",
        "    num_train = total_num_examples - num_val\n",
        "    \n",
        "    input_tensor_train, input_tensor_val = input_tensor[:num_train], input_tensor[num_train:]\n",
        "    target_tensor_train, target_tensor_val = target_tensor[:num_train], target_tensor[num_train:]\n",
        "\n",
        "    assert len(input_tensor_train) == num_train\n",
        "    assert len(target_tensor_train) == num_train\n",
        "    assert len(input_tensor_val) == num_val\n",
        "    assert len(target_tensor_val) == num_val\n",
        "\n",
        "    return input_tensor_train, input_tensor_val, target_tensor_train, target_tensor_val\n",
        "\n",
        "\n",
        "def sort_batch(X, y, lengths):\n",
        "    \"\"\"sort batch function to be able to use with pad_packed_sequence\"\"\"\n",
        "    lengths, indx = lengths.sort(dim=0, descending=True)\n",
        "    X = X[indx]\n",
        "    y = y[indx]\n",
        "    return X.transpose(0,1), y, lengths # transpose (batch x seq) to (seq x batch)"
      ],
      "execution_count": 2,
      "outputs": []
    },
    {
      "cell_type": "markdown",
      "metadata": {
        "id": "-XH8nu0ojQpt"
      },
      "source": [
        "# Download The Data\n",
        "\n",
        "Here we will download the translation data. We will learn a model to translate Spanish to English.\n",
        "\n",
        "NOTE: Comment all lines in the below cell before submitting your code. \n",
        "These statement is only valid in a Notebook file and not in a Python .py file"
      ]
    },
    {
      "cell_type": "code",
      "metadata": {
        "id": "KtyBFlMKIg7g",
        "colab": {
          "base_uri": "https://localhost:8080/"
        },
        "outputId": "cf818866-b1b6-4288-991e-f055402f6043"
      },
      "source": [
        "# NOTE: Comment all 3 lines in the below cell before submitting your code to gradescope.\n",
        "if __name__ == '__main__':\n",
        "    !wget http://www.manythings.org/anki/spa-eng.zip\n",
        "    !unzip -o spa-eng.zip"
      ],
      "execution_count": 3,
      "outputs": [
        {
          "output_type": "stream",
          "text": [
            "--2020-12-04 08:52:41--  http://www.manythings.org/anki/spa-eng.zip\n",
            "Resolving www.manythings.org (www.manythings.org)... 104.24.108.196, 172.67.173.198, 104.24.109.196, ...\n",
            "Connecting to www.manythings.org (www.manythings.org)|104.24.108.196|:80... connected.\n",
            "HTTP request sent, awaiting response... 200 OK\n",
            "Length: 4845402 (4.6M) [application/zip]\n",
            "Saving to: ‘spa-eng.zip’\n",
            "\n",
            "spa-eng.zip         100%[===================>]   4.62M  5.22MB/s    in 0.9s    \n",
            "\n",
            "2020-12-04 08:52:43 (5.22 MB/s) - ‘spa-eng.zip’ saved [4845402/4845402]\n",
            "\n",
            "Archive:  spa-eng.zip\n",
            "  inflating: _about.txt              \n",
            "  inflating: spa.txt                 \n"
          ],
          "name": "stdout"
        }
      ]
    },
    {
      "cell_type": "code",
      "metadata": {
        "id": "4WNjizED6eFI",
        "colab": {
          "base_uri": "https://localhost:8080/"
        },
        "outputId": "e93a6e98-90d4-457c-b314-bc1604478c81"
      },
      "source": [
        "if __name__ == '__main__':\n",
        "    lines = open('spa.txt', encoding='UTF-8').read().strip().split('\\n')\n",
        "    total_num_examples = 30000 \n",
        "    original_word_pairs = [[w for w in l.split('\\t')][:2] for l in lines[:total_num_examples]]\n",
        "    data = pd.DataFrame(original_word_pairs, columns=['eng', 'es'])\n",
        "    print(data) # visualizing the data"
      ],
      "execution_count": 4,
      "outputs": [
        {
          "output_type": "stream",
          "text": [
            "                          eng                    es\n",
            "0                         Go.                   Ve.\n",
            "1                         Go.                 Vete.\n",
            "2                         Go.                 Vaya.\n",
            "3                         Go.               Váyase.\n",
            "4                         Hi.                 Hola.\n",
            "...                       ...                   ...\n",
            "29995  I'm going to be there.     Voy a estar allí.\n",
            "29996  I'm going to go there.        Voy a ir allí.\n",
            "29997  I'm going to help Tom.   Voy a ayudar a Tom.\n",
            "29998  I'm going to hurt you.  Te voy a hacer daño.\n",
            "29999  I'm going to kiss you.            Te besaré.\n",
            "\n",
            "[30000 rows x 2 columns]\n"
          ],
          "name": "stdout"
        }
      ]
    },
    {
      "cell_type": "code",
      "metadata": {
        "id": "Mud7HbQUMUHB",
        "colab": {
          "base_uri": "https://localhost:8080/"
        },
        "outputId": "4d8d4369-5b5f-4628-9ef7-54d69cc17d2a"
      },
      "source": [
        "if __name__ == '__main__':\n",
        "    # Make sure YOU only run this once - if you run it twice it will mess up the data so you will have run the above cell again\n",
        "    # Now we do the preprocessing using pandas and lambdas\n",
        "    data['eng'] = data.eng.apply(lambda w: preprocess_sentence(w))\n",
        "    data['es'] = data.es.apply(lambda w: preprocess_sentence(w))\n",
        "    print(data) # visualizing the data"
      ],
      "execution_count": 5,
      "outputs": [
        {
          "output_type": "stream",
          "text": [
            "                                         eng                                   es\n",
            "0                         <start> go . <end>                   <start> ve . <end>\n",
            "1                         <start> go . <end>                 <start> vete . <end>\n",
            "2                         <start> go . <end>                 <start> vaya . <end>\n",
            "3                         <start> go . <end>               <start> vayase . <end>\n",
            "4                         <start> hi . <end>                 <start> hola . <end>\n",
            "...                                      ...                                  ...\n",
            "29995  <start> i m going to be there . <end>     <start> voy a estar alli . <end>\n",
            "29996  <start> i m going to go there . <end>        <start> voy a ir alli . <end>\n",
            "29997  <start> i m going to help tom . <end>   <start> voy a ayudar a tom . <end>\n",
            "29998  <start> i m going to hurt you . <end>  <start> te voy a hacer dano . <end>\n",
            "29999  <start> i m going to kiss you . <end>            <start> te besare . <end>\n",
            "\n",
            "[30000 rows x 2 columns]\n"
          ],
          "name": "stdout"
        }
      ]
    },
    {
      "cell_type": "markdown",
      "metadata": {
        "id": "IHJw_CyykmMp"
      },
      "source": [
        "# Vocabulary Class\n",
        "\n",
        "We create a class here for managing our vocabulary as we did in HW2. In this HW, we have a separate class for the vocabulary as we need 2 different vocabularies - one for English and one for Spanish."
      ]
    },
    {
      "cell_type": "code",
      "metadata": {
        "id": "1h4Q21azMW-T"
      },
      "source": [
        "class Vocab_Lang():\n",
        "    def __init__(self, vocab):\n",
        "        self.word2idx = {'<pad>': 0, '<unk>': 1}\n",
        "        self.idx2word = {0: '<pad>', 1: '<unk>'}\n",
        "        self.vocab = vocab\n",
        "        \n",
        "        for index, word in enumerate(self.vocab):\n",
        "            self.word2idx[word] = index + 2 # +2 because of <pad> and <unk> token\n",
        "            self.idx2word[index + 2] = word"
      ],
      "execution_count": 6,
      "outputs": []
    },
    {
      "cell_type": "markdown",
      "metadata": {
        "id": "2a2c34aFnPOP"
      },
      "source": [
        "# Dataloader for our Encoder and Decoder\n",
        "\n",
        "We prepare the dataloader and make sure the dataloader returns the source sentence, target sentence and the length of the source sentenc sampled from the training dataset."
      ]
    },
    {
      "cell_type": "code",
      "metadata": {
        "id": "c797aZAWMzrW"
      },
      "source": [
        "class MyData(Dataset):\n",
        "    def __init__(self, X, y):\n",
        "        self.length = torch.LongTensor([np.sum(1 - np.equal(x, 0)) for x in X])\n",
        "        self.data = torch.LongTensor(X)\n",
        "        self.target = torch.LongTensor(y)\n",
        "    \n",
        "    def __getitem__(self, index):\n",
        "        x = self.data[index]\n",
        "        y = self.target[index]\n",
        "        x_len = self.length[index]\n",
        "        return x, y, x_len\n",
        "  \n",
        "    def __len__(self):\n",
        "        return len(self.data)"
      ],
      "execution_count": 7,
      "outputs": []
    },
    {
      "cell_type": "markdown",
      "metadata": {
        "id": "VaH022cEy03q"
      },
      "source": [
        "# Train your model\n",
        "\n",
        "You will train your model here.\n",
        "*   Pass the source sentence and their corresponding lengths into the encoder\n",
        "*   Creating the decoder input using <start> tokens\n",
        "*   Now we find out the decoder outputs conditioned on the previous predicted word usually, but in our training we use teacher forcing. Read more about teacher forcing at https://machinelearningmastery.com/teacher-forcing-for-recurrent-neural-networks/\n",
        "\n",
        "\n",
        "# Evaluation\n",
        "\n",
        "*   We evaluate on the test set.\n",
        "*   In this evaluation, instead of using the concept of teacher forcing, we use the prediction of the decoder as the input to the decoder for the sequence of outputs.\n",
        "\n",
        "## Bleu Score Calculation for evaluation\n",
        "\n",
        "Read more about Bleu Score at :\n",
        "\n",
        "1.   https://en.wikipedia.org/wiki/BLEU\n",
        "2.   https://www.aclweb.org/anthology/P02-1040.pdf"
      ]
    },
    {
      "cell_type": "code",
      "metadata": {
        "id": "bp2rKJY4NIzx"
      },
      "source": [
        "def loss_function(real, pred):\n",
        "    \"\"\" Only consider non-zero inputs in the loss; mask needed \"\"\"\n",
        "    mask = real.ge(1).float()\n",
        "    \n",
        "    loss_ = F.cross_entropy(pred, real) * mask \n",
        "    return torch.mean(loss_)"
      ],
      "execution_count": 8,
      "outputs": []
    },
    {
      "cell_type": "code",
      "metadata": {
        "id": "i9663UYJNMgv"
      },
      "source": [
        "def train_model(encoder, decoder, dataset, optimizer, targ_lang, device, n_epochs=10):\n",
        "    for epoch in range(n_epochs):\n",
        "        start = time.time()\n",
        "        n_batch = 0\n",
        "        total_loss = 0\n",
        "        \n",
        "        encoder.train()\n",
        "        decoder.train()\n",
        "        \n",
        "        for inp, targ, inp_len in tqdm(dataset):\n",
        "            n_batch += 1\n",
        "            loss = 0\n",
        "            \n",
        "            xs, ys, lens = sort_batch(inp, targ, inp_len)\n",
        "            enc_output, enc_hidden = encoder(xs.to(device), lens)\n",
        "            dec_hidden = enc_hidden\n",
        "            \n",
        "            # use teacher forcing - feeding the target as the next input (via dec_input)\n",
        "            dec_input = torch.tensor([[targ_lang.word2idx['<start>']]] * BATCH_SIZE)\n",
        "        \n",
        "            # run code below for every timestep in the ys batch\n",
        "            for t in range(1, ys.size(1)):\n",
        "                predictions, dec_hidden, _ = decoder(dec_input.to(device), dec_hidden.to(device), enc_output.to(device))\n",
        "                loss += loss_function(ys[:, t].to(device), predictions.to(device))\n",
        "                dec_input = ys[:, t].unsqueeze(1)\n",
        "        \n",
        "            batch_loss = (loss / int(ys.size(1)))\n",
        "            total_loss += batch_loss\n",
        "            \n",
        "            optimizer.zero_grad()\n",
        "            \n",
        "            loss.backward()\n",
        "\n",
        "            ### update model parameters\n",
        "            optimizer.step()\n",
        "        \n",
        "        ### TODO: Save checkpoint for model (optional)\n",
        "        print('Epoch:{:2d}/{}\\t Loss:{:.4f} ({:.2f}s)'.format(epoch + 1, n_epochs, total_loss / n_batch, time.time() - start))\n",
        "\n",
        "    print('Model trained!')"
      ],
      "execution_count": 9,
      "outputs": []
    },
    {
      "cell_type": "code",
      "metadata": {
        "id": "1emvSSo0NRbQ"
      },
      "source": [
        "def get_reference_candidate(target, pred, targ_lang):\n",
        "    reference = list(target)\n",
        "    reference = [targ_lang.idx2word[s] for s in np.array(reference[1:])]\n",
        "    candidate = list(pred)\n",
        "    candidate = [targ_lang.idx2word[s] for s in np.array(candidate[1:])]\n",
        "    return reference, candidate\n",
        "\n",
        "\n",
        "def evaluate_model(encoder, decoder, val_dataset, target_tensor_val, max_length_tar, targ_lang, device):\n",
        "    batch_size = val_dataset.batch_size\n",
        "    n_batch = 0\n",
        "    total_loss = 0\n",
        "\n",
        "    encoder.eval()\n",
        "    decoder.eval()\n",
        "\n",
        "    final_output = torch.zeros((len(target_tensor_val), max_length_tar))\n",
        "    target_output = torch.zeros((len(target_tensor_val), max_length_tar))\n",
        "\n",
        "    with torch.no_grad():\n",
        "        for batch, (inp, targ, inp_len) in enumerate(val_dataset):\n",
        "            n_batch += 1\n",
        "            loss = 0\n",
        "            xs, ys, lens = sort_batch(inp, targ, inp_len)\n",
        "            enc_output, enc_hidden = encoder(xs.to(device), lens)\n",
        "            dec_hidden = enc_hidden\n",
        "            \n",
        "            dec_input = torch.tensor([[targ_lang.word2idx['<start>']]] * batch_size)\n",
        "            curr_output = torch.zeros((ys.size(0), ys.size(1)))\n",
        "            curr_output[:, 0] = dec_input.squeeze(1)\n",
        "\n",
        "            for t in range(1, ys.size(1)): # run code below for every timestep in the ys batch\n",
        "                predictions, dec_hidden, _ = decoder(dec_input.to(device), dec_hidden.to(device), enc_output.to(device))\n",
        "                loss += loss_function(ys[:, t].to(device), predictions.to(device))\n",
        "                dec_input = torch.argmax(predictions, dim=1).unsqueeze(1)\n",
        "                curr_output[:, t] = dec_input.squeeze(1)\n",
        "        \n",
        "            final_output[batch*batch_size:(batch+1)*batch_size] = curr_output\n",
        "            target_output[batch*batch_size:(batch+1)*batch_size] = targ\n",
        "            batch_loss = (loss / int(ys.size(1)))\n",
        "            total_loss += batch_loss\n",
        "\n",
        "        print('Loss {:.4f}'.format(total_loss / n_batch))\n",
        "    \n",
        "    # Compute Bleu scores\n",
        "    bleu_1 = 0.0\n",
        "    bleu_2 = 0.0\n",
        "    bleu_3 = 0.0\n",
        "    bleu_4 = 0.0\n",
        "\n",
        "    smoother = SmoothingFunction()\n",
        "    save_reference = []\n",
        "    save_candidate = []\n",
        "    for i in range(len(target_tensor_val)):\n",
        "        reference, candidate = get_reference_candidate(target_output[i], final_output[i], targ_lang)\n",
        "    \n",
        "        bleu_1 += sentence_bleu(reference, candidate, weights=(1,), smoothing_function=smoother.method1)\n",
        "        bleu_2 += sentence_bleu(reference, candidate, weights=(1/2, 1/2), smoothing_function=smoother.method1)\n",
        "        bleu_3 += sentence_bleu(reference, candidate, weights=(1/3, 1/3, 1/3), smoothing_function=smoother.method1)\n",
        "        bleu_4 += sentence_bleu(reference, candidate, weights=(1/4, 1/4, 1/4, 1/4), smoothing_function=smoother.method1)\n",
        "\n",
        "        save_reference.append(reference)\n",
        "        save_candidate.append(candidate)\n",
        "    \n",
        "    bleu_1 = bleu_1/len(target_tensor_val)\n",
        "    bleu_2 = bleu_2/len(target_tensor_val)\n",
        "    bleu_3 = bleu_3/len(target_tensor_val)\n",
        "    bleu_4 = bleu_4/len(target_tensor_val)\n",
        "\n",
        "    # bleu_1 = corpus_bleu(save_reference, save_candidate, weights=(1,), smoothing_function=smoother.method1)\n",
        "    # bleu_2 = corpus_bleu(save_reference, save_candidate, weights=(1/2, 1/2), smoothing_function=smoother.method1)\n",
        "    # bleu_3 = corpus_bleu(save_reference, save_candidate, weights=(1/3, 1/3, 1/3), smoothing_function=smoother.method1)\n",
        "    # bleu_4 = corpus_bleu(save_reference, save_candidate, weights=(1/4, 1/4, 1/4, 1/4), smoothing_function=smoother.method1)\n",
        "\n",
        "    print('BLEU 1-gram: %f' % (bleu_1))\n",
        "    print('BLEU 2-gram: %f' % (bleu_2))\n",
        "    print('BLEU 3-gram: %f' % (bleu_3))\n",
        "    print('BLEU 4-gram: %f' % (bleu_4))\n",
        "\n",
        "    return save_candidate"
      ],
      "execution_count": 10,
      "outputs": []
    },
    {
      "cell_type": "markdown",
      "metadata": {
        "id": "umSF6nAka57s"
      },
      "source": [
        "# Use Pretrained Embeddings\n",
        "\n",
        "The embedding used in HW2 was initialized with random vectors and learnt while training. Here we will use the FastText embedding method proposed by Facebook's AI Research lab to improve our translation result. Particularly, we will use an implementation from the gensim library to train the embedding of our corpus.\n",
        "\n",
        "Read more about FastText and gensim liberary:\n",
        "https://radimrehurek.com/gensim/models/fasttext.html#gensim.models.fasttext.FastText"
      ]
    },
    {
      "cell_type": "code",
      "metadata": {
        "id": "BA4lG_4fqL9U"
      },
      "source": [
        "from gensim.models import FastText"
      ],
      "execution_count": 11,
      "outputs": []
    },
    {
      "cell_type": "markdown",
      "metadata": {
        "id": "uW4jAq_CsN7z"
      },
      "source": [
        "# Train FastText Embeddings (Implement This)"
      ]
    },
    {
      "cell_type": "code",
      "metadata": {
        "id": "ChRig0iPrpUF"
      },
      "source": [
        "def compute_FastText_embeddings(pd_dataframe, embedding_dim=256):\n",
        "    \"\"\"\n",
        "    Given dataset (pd.DataFrame as used in the beginning), train FastText embeddings\n",
        "    Return FastText trained model and embeddings vectors (np array [2 + vocab_size, embedding_dim])\n",
        "    \"\"\"\n",
        "    print('Computing FastText Embeddings...')\n",
        "    sentences = [sen.split() for sen in pd_dataframe]\n",
        "    \n",
        "    ##### TODO:\n",
        "    # 1. create FastText model to learn `embedding_dim` sized embedding vectors\n",
        "    model = FastText(sentences, size=embedding_dim)\n",
        "\n",
        "    # 2. build vocab from sentences\n",
        "    model.build_vocab(sentences, update = True)\n",
        "\n",
        "    # 3. train model on sentences for 10 epochs\n",
        "    model.train(sentences, total_examples=len(sentences), epochs=10)\n",
        "\n",
        "    # 4. The sentences that we used to train the embedding don't contain '<pad>', or '<unk>' \n",
        "    # so add two all-zero or random rows in the beginning of the embedding numpy array for '<pad>' and '<unk>'\n",
        "    embedding_vec = model.wv.vectors # np.array [vocab_size, embedding_dim]\n",
        "    embedding_vec = np.vstack((np.zeros((2,embedding_dim),dtype=np.float32),embedding_vec)) # np.array [2 + vocab_size, embedding_dim]\n",
        "\n",
        "    return model, embedding_vec"
      ],
      "execution_count": 12,
      "outputs": []
    },
    {
      "cell_type": "code",
      "metadata": {
        "id": "BrgMtGxHoqFi"
      },
      "source": [
        "if __name__ == '__main__':\n",
        "    # HYPERPARAMETERS (No need to experiemnt with other hyperparameters as these seem to work fine)\n",
        "    BATCH_SIZE = 64\n",
        "    EMBEDDING_DIM = 256\n",
        "    UNITS = 512\n",
        "    LEARNING_RATE = 0.001"
      ],
      "execution_count": 13,
      "outputs": []
    },
    {
      "cell_type": "code",
      "metadata": {
        "id": "ZtlsUrvzetQO",
        "colab": {
          "base_uri": "https://localhost:8080/"
        },
        "outputId": "abb45fda-b7c8-4ed0-bf37-e7ea334bd923"
      },
      "source": [
        "if __name__ == '__main__':\n",
        "    model_eng, embedding_eng = compute_FastText_embeddings(data['eng'], EMBEDDING_DIM)\n",
        "    model_es, embedding_es = compute_FastText_embeddings(data['es'], EMBEDDING_DIM)"
      ],
      "execution_count": 14,
      "outputs": [
        {
          "output_type": "stream",
          "text": [
            "Computing FastText Embeddings...\n",
            "Computing FastText Embeddings...\n"
          ],
          "name": "stdout"
        }
      ]
    },
    {
      "cell_type": "code",
      "metadata": {
        "id": "k6UsDOA2c-G6",
        "colab": {
          "base_uri": "https://localhost:8080/"
        },
        "outputId": "6cde338f-e138-4c04-d794-e09cd84135e4"
      },
      "source": [
        "if __name__ == '__main__':\n",
        "    inp_lang = Vocab_Lang(model_es.wv.vocab)\n",
        "    targ_lang = Vocab_Lang(model_eng.wv.vocab)\n",
        "\n",
        "    input_tensor, target_tensor, max_length_inp, max_length_tar = preprocess_data_to_tensor(data, inp_lang, targ_lang)\n",
        "    input_tensor_train, input_tensor_val, target_tensor_train, target_tensor_val = train_val_split(input_tensor, target_tensor)\n",
        "\n",
        "    # create train and val datasets\n",
        "    train_dataset = MyData(input_tensor_train, target_tensor_train)\n",
        "    train_dataset = DataLoader(train_dataset, batch_size=BATCH_SIZE, drop_last=True, shuffle=True)\n",
        "\n",
        "    val_dataset = MyData(input_tensor_val, target_tensor_val)\n",
        "    val_dataset = DataLoader(val_dataset, batch_size=BATCH_SIZE, drop_last=True, shuffle=False)"
      ],
      "execution_count": 15,
      "outputs": [
        {
          "output_type": "stream",
          "text": [
            "max_length_inp: 16, max_length_tar: 11\n"
          ],
          "name": "stdout"
        }
      ]
    },
    {
      "cell_type": "code",
      "metadata": {
        "id": "zWO5ptloc-HL",
        "colab": {
          "base_uri": "https://localhost:8080/"
        },
        "outputId": "70d2e01f-44d9-44e2-ad78-b47e514d69ba"
      },
      "source": [
        "if __name__ == '__main__':\n",
        "    inp, targ, inp_len = train_dataset.dataset[0]\n",
        "    print('Input:', inp)\n",
        "    print('Target:', targ)\n",
        "    print('Input Length:', inp_len)"
      ],
      "execution_count": 16,
      "outputs": [
        {
          "output_type": "stream",
          "text": [
            "Input: tensor([2, 3, 4, 5, 0, 0, 0, 0, 0, 0, 0, 0, 0, 0, 0, 0])\n",
            "Target: tensor([2, 3, 4, 5, 0, 0, 0, 0, 0, 0, 0])\n",
            "Input Length: tensor(4)\n"
          ],
          "name": "stdout"
        }
      ]
    },
    {
      "cell_type": "markdown",
      "metadata": {
        "id": "ENeT1fj_2f8t"
      },
      "source": [
        "# Encoder Model (Implement This)\n",
        "\n",
        "First we build a simple encoder model, which will be very similar to what you did in MP2. But instead of using a fully connected layer as the output, you should the return the output of your recurrent net (GRU/LSTM) as well as the hidden output. They are used in the decoder later.\n",
        "\n",
        "NOTE: Initialize your embedding layer with those embeddings. Refer to nn.Embedding.from_pretrained in https://pytorch.org/docs/stable/generated/torch.nn.Embedding.html\n"
      ]
    },
    {
      "cell_type": "code",
      "metadata": {
        "id": "_Sx4QQd3M4XK"
      },
      "source": [
        "class Encoder(nn.Module):\n",
        "    def __init__(self, pretrained_emb, vocab_size, embedding_dim, enc_units, num_layers=1):\n",
        "        super(Encoder, self).__init__()\n",
        "        ##### TODO:\n",
        "        # Convert pretrained_emb from np.array to torch.FloatTensor\n",
        "        pretrained_emb = torch.from_numpy(pretrained_emb).float()\n",
        "\n",
        "        # Initialize embedding layer with pretrained_emb\n",
        "        self.embedding = nn.Embedding.from_pretrained(pretrained_emb)\n",
        "        \n",
        "        # Initialize a single directional LSTM/GRU with 1 layers and batch_first=False\n",
        "        self.rnn = nn.LSTM(embedding_dim, enc_units)\n",
        "        \n",
        "    def forward(self, x, lens):\n",
        "        \"\"\"\n",
        "        Args:\n",
        "            x: [max_len, batch_size]\n",
        "            lens: [batch_size]\n",
        "\n",
        "        Returns:\n",
        "            unpacked_output: [max_len, batch_size, enc_units]\n",
        "            hidden_state: [1, batch_size, enc_units]\n",
        "        \n",
        "        Pseudo-code:\n",
        "        - Pass x through an embedding layer\n",
        "        - Make sure x is correctly packed before the recurrent net \n",
        "        - Pass it through the recurrent net\n",
        "        - Make sure the output is unpacked correctly\n",
        "        - Return hidden states from the recurrent net (for last time step) and the unpacked output\n",
        "        \"\"\"\n",
        "        x = self.embedding(x) # [max_len, batch_size, embedding_dim]\n",
        "        \n",
        "        ##### TODO:\n",
        "\n",
        "        packed_x = pack_padded_sequence(x,lens)\n",
        "        output, (hidden_state, _) = self.rnn(packed_x)\n",
        "        unpacked_output, _ = pad_packed_sequence(output)\n",
        "\n",
        "        return unpacked_output, hidden_state"
      ],
      "execution_count": 17,
      "outputs": []
    },
    {
      "cell_type": "markdown",
      "metadata": {
        "id": "vKwsEWpK2mcT"
      },
      "source": [
        "# Decoder Model (Implement This)\n",
        "We will implement a Decoder model which uses an attention mechanism. We will implement the decoder as provided in https://arxiv.org/pdf/1409.0473.pdf. **Please read** the links provided above first, at the start of this assignment for review. The pseudo-code for your implementation should be somewhat as follows:\n",
        "\n",
        "\n",
        "1.   The input is put through an encoder model which gives us the encoder output of shape *(max_length, batch_size, enc_units)* and the encoder hidden state of shape *(1, batch_size, enc_units)*. \n",
        "2.   Using the output your encoder you will calculate the score and subsequently the attention using following equations : \n",
        "<img src=\"https://www.tensorflow.org/images/seq2seq/attention_equation_0.jpg\" alt=\"attention equation 0\" width=\"800\">\n",
        "<img src=\"https://www.tensorflow.org/images/seq2seq/attention_equation_1.jpg\" alt=\"attention equation 1\" width=\"800\">\n",
        "\n",
        "3. Once you have calculated this attention vector, you pass the original input x through a embedding layer. The output of this embedding layer is concatenated with the attention vector which is passed into your RNN.\n",
        "\n",
        "4. Finally you pass the output of your RNN into a fully connected layer with an output size same as that vocab, to see the probability of the most possible word.\n",
        "\n",
        "NOTE: Initialize your embedding layer with those embeddings. Refer to nn.Embedding.from_pretrained in https://pytorch.org/docs/stable/generated/torch.nn.Embedding.html\n",
        "\n"
      ]
    },
    {
      "cell_type": "code",
      "metadata": {
        "id": "cw84M2LPM-PC"
      },
      "source": [
        "class Decoder(nn.Module):\n",
        "    def __init__(self, pretrained_emb, vocab_size, embedding_dim, dec_units, enc_units, num_layers=1):\n",
        "        super(Decoder, self).__init__()\n",
        "\n",
        "        ##### TODO:\n",
        "        # Convert pretrained_emb from np.array to torch.FloatTensor\n",
        "        pretrained_emb = torch.from_numpy(pretrained_emb)\n",
        "\n",
        "        # Initialize embedding layer with pretrained_emb\n",
        "        self.embedding = nn.Embedding.from_pretrained(pretrained_emb)\n",
        "        \n",
        "        # Layers to compute score based on the formula you pick\n",
        "        # We have tested the model using Bahdanau's additive style formula\n",
        "        #   but feel free to try the Loung's style also and see if you can get better performance\n",
        "        self.hidden_weights = nn.Linear(enc_units,enc_units)\n",
        "        self.enc_weights = nn.Linear(enc_units,enc_units)\n",
        "        self.score_weights = nn.Linear(enc_units,1)\n",
        "        \n",
        "        # Initialize a single directional LSTM/GRU with 1 layers and batch_first=True\n",
        "        # NOTE: input to your rnn would be a concatenation of two types of vectors\n",
        "        self.rnn = nn.LSTM(enc_units + embedding_dim, enc_units, batch_first=True)\n",
        "        \n",
        "        # Fully Connected Layer\n",
        "        self.fc = nn.Linear(enc_units, vocab_size)\n",
        "    \n",
        "    def forward(self, x, hidden, enc_output):\n",
        "        \"\"\"\n",
        "        Args:\n",
        "            x: [batch_size, 1]\n",
        "            hidden: [1, batch_size, enc_units]\n",
        "            enc_output: [max_len, batch_size, enc_units]\n",
        "\n",
        "        Returns:\n",
        "            fc_out: [batch_size, vocab_size]\n",
        "            hidden_state [1, batch_size, dec_units]\n",
        "            attention_weights: [batch_size, max_len, 1]\n",
        "\n",
        "        Pseudo-code:\n",
        "        - Calculate the score using the formula shown above using encoder output and hidden output. \n",
        "            Note h_t is the hidden output of the decoder and h_s is the encoder output in the formula\n",
        "        - Calculate the attention weights using softmax and **passing through V** - which can be implemented as a fully connected layer\n",
        "        - Finally find c_t which is a context vector where the shape of context_vector should be (batch_size, hidden_size)\n",
        "        - You need to unsqueeze the context_vector for concatenating with x_embedding as listed in Point 3 above\n",
        "        - Pass this concatenated tensor to the RNN and follow as specified in Point 4 above\n",
        "        - Return (i)  output of your fc layer (takes output of your RNN as its input (might have to reshape it first))\n",
        "        -        (ii) hidden states from the recurrent net (for last time step)\n",
        "        -        (iii) attention weights\n",
        "        \"\"\"\n",
        "        hidden = hidden.permute(1, 0, 2) # [batch_size, 1, enc_units]                   # h_t\n",
        "        enc_output = enc_output.permute(1, 0, 2) # [batch_size, max_len, enc_units]     # h_s\n",
        "\n",
        "        ##### TODO:\n",
        "        score = self.score_weights(torch.tanh(self.hidden_weights(hidden)+self.enc_weights(enc_output))) # [batch_size, max_len, 1]\n",
        "\n",
        "        # maybe use the below here\n",
        "        # attention_weights = self.score_weights(F.softmax(score, dim=1))  # [batch_size, max_len, 1]\n",
        "        attention_weights = F.softmax(score, dim=1)  # [batch_size, max_len, 1]\n",
        "        \n",
        "\n",
        "        \n",
        "        context_vector = torch.mul(attention_weights, hidden) # [batch_size, max_len, enc_units]\n",
        "        context_vector = torch.sum(context_vector, dim=1) # [batch_size, enc_units]\n",
        "        context_vector = context_vector.unsqueeze(1) # [batch_size, 1, enc_units]\n",
        "\n",
        "        x_embedding = self.embedding(x)\n",
        "\n",
        "        concatenated_input = torch.cat((x_embedding, context_vector), dim = 2) # [batch_size, 1, enc_units + embedding_dim]\n",
        "        \n",
        "        rnn_output, (hidden_state, _) = self.rnn(concatenated_input)\n",
        "\n",
        "        fc_out = self.fc(rnn_output.squeeze(1))\n",
        "\n",
        "\n",
        "        # print(\"shapes:\")\n",
        "        # print(\"rnn_output\", rnn_output.shape)\n",
        "        # print(\"hidden state\", hidden_state.shape)\n",
        "        # print(\"fc_out\", fc_out.shape)\n",
        "        return fc_out, hidden_state, attention_weights"
      ],
      "execution_count": 37,
      "outputs": []
    },
    {
      "cell_type": "code",
      "metadata": {
        "id": "IjbsUkcpNK9W",
        "colab": {
          "base_uri": "https://localhost:8080/"
        },
        "outputId": "9fe67b81-b99a-491b-abfe-3052d54984fb"
      },
      "source": [
        "if __name__ == '__main__':\n",
        "    vocab_inp_size = len(inp_lang.word2idx)\n",
        "    vocab_tar_size = len(targ_lang.word2idx)\n",
        "\n",
        "    encoder = Encoder(embedding_es, vocab_inp_size, EMBEDDING_DIM, UNITS).to(device)\n",
        "    decoder = Decoder(embedding_eng, vocab_tar_size, EMBEDDING_DIM, UNITS, UNITS).to(device)\n",
        "\n",
        "    model_params = list(encoder.parameters()) + list(decoder.parameters())\n",
        "    optimizer = torch.optim.Adam(model_params, lr=LEARNING_RATE)\n",
        "\n",
        "    print('Encoder and Decoder models initialized!')"
      ],
      "execution_count": 38,
      "outputs": [
        {
          "output_type": "stream",
          "text": [
            "Encoder and Decoder models initialized!\n"
          ],
          "name": "stdout"
        }
      ]
    },
    {
      "cell_type": "markdown",
      "metadata": {
        "id": "VQKYT5w3n82V"
      },
      "source": [
        "# Train and evaluate your model here\n",
        "We expect your scores to be in the range of for full credit for each of the 4 BLEU scores individually. No partial credit :( \n",
        "\n",
        "*   BLEU-1 > 0.145\n",
        "*   BLEU-2 > 0.030\n",
        "*   BLEU-3 > 0.020\n",
        "*   BLEU-4 > 0.015"
      ]
    },
    {
      "cell_type": "code",
      "metadata": {
        "id": "OPosimvgdx_O",
        "colab": {
          "base_uri": "https://localhost:8080/",
          "height": 694,
          "referenced_widgets": [
            "3b6b33fc738345169f67e0c77ccb26f3",
            "b380219dba55402bb9dcf0ddb0955f82",
            "a0f166baaff64e84a7ace623a240ccac",
            "cc657f36b7ca48029639e4194f949e52",
            "55b0879ead1f4cdbae5b826f47f63be1",
            "2acc8e3601ff4e43b3df0303fa79d759",
            "ca51dca768274052b4e28c562cf8c27b",
            "6c0713e969fb4bfd9b2244e2a81f7903",
            "9888cbcaed6c49fb98ab8fded2c0bd0d",
            "f8acaa8969244c9ea7aaafd22920afb4",
            "692da639c8dd4bf3a40b593c2061b0b6",
            "da313391c1a14fa1bba63f33a4dd9467",
            "ebe73599e7bd42a893048208dc137b4b",
            "211480bee9d340d9b51e05cac198d0c4",
            "b70c52c6fb1a4f29844f549e59966b2a",
            "03c6d4b6967c4a34b4b33d0d2c4a60ed",
            "75332708ccd2400b885726965437bc83",
            "dfe5c9e365d1492e84137e0f78d30b7c",
            "5f00aab95a614f00b58cba1b0087ccb5",
            "070d6b7638264c2abb1c6bb17d83464a",
            "8aa9ba577b64435a89dda7b8116bd1c1",
            "8fe339557dd143d19bdb1d80ce62127a",
            "d693055041c54339b1c0f77b62214e16",
            "d447e6f0adf64034a08cef0039af3e0f",
            "f4c06cae54c54ab6b817eb057c7ef727",
            "48539d75d4b74a43bdd66ee2e05a4d6c",
            "abb932ae603d4b449cf07a33c6c6112a",
            "e906d5764cf74250ae58b85d222dbeaf",
            "92070fb462404c9e820f86e34b415048",
            "c70e40401b5a433bacbc42e366ff637d",
            "a12496c52813480bb3a115da2f965850",
            "84b17ffb523848288e0ba8e959818424",
            "3f41f863ec654d648609cc9f98056a34",
            "bb42a67653c547f1bccc65b71e0f2f83",
            "173654fcd2b04c1e95f19c617085cab4",
            "fa6a242b0b32497f82dbe6d8e58a4c41",
            "221d56b544e64e239a77f63cb4a5dfe2",
            "22ab7259f3b04ebda34c7d7307b327c2",
            "805deac7c2194d839c17df1085133363",
            "a35d2c9014d240ff8a03748719181c28",
            "35695ea1bf11485382b0af2fb337ca4f",
            "c187dfd8769e4c6fb2cb3cf910f4eb34",
            "59a920675cee44bdba175698b7fd70bd",
            "ed3bddf598d249c68199b24f04d5b3cb",
            "9e46bc032e3e4e889dea2ddb1b0b410c",
            "b2c49de4b081423285bed2d9dec7292b",
            "fb14ea994a074b5ca8b8753815a9ec48",
            "dab7f54b86d84de69d7dd280caa2411f",
            "821e2cbe69784c128ce1e22366bf9461",
            "a62418e4d0d14d43b7aa813bd1367266",
            "bfe64253dfdd4b1b814afa35aca970ac",
            "6a6ee400d7094a4685b6f8d17cefaeef",
            "4754e31ffc7541e59b895404511b44d0",
            "c3dafc8a996643879ecbd26d696a4d7e",
            "0aa6bddd2a85411786a55c06aaddaba0",
            "56971dd7493c41c8a82cc21b9ad02c0b",
            "c170151115294c3cb0ab3ff05aa7277a",
            "92cc2f7f0d0f4b77b1e9f8f2cdbd9f86",
            "ffa526b2f7fa407996f05fe07e0f51f2",
            "3a1f136045aa4c728174dcfb74e2ea87",
            "427a15d0669e44658d727da123542d1c",
            "6bbcba202e9f4e61b5988c93a76b4ca0",
            "caca618e983743c683706e11a6318b81",
            "469c1180c8be42c1b9d38a94c3a4376a",
            "f44ad185d8954754a93fb3cfb24a373e",
            "450987450e834e5989523064060ea75f",
            "e429e753fdbc49268aed94a7c23630c0",
            "7dfe1efdbe294b9bb1fa977427b6dd94",
            "d6b2e3f06a7c422a8f32cdab33785132",
            "677b68c1e6794947bc61a610f5c00e0f",
            "59ba654d2fd741ff8bc66c49df945053",
            "d662cfbe47c74b7fbad5b4ad9fb94383",
            "c169f13805f447929eb6d546a99350b3",
            "dc160f3c90c94505824caf072893a3ef",
            "2c9bca255f7d4152aaa4f740de11f3c3",
            "bc326d44f6074c1daaf2e8a51589a4bd",
            "dd15e654210a42d4905b12a7a01c95ca",
            "8efb75bbde63439997bd7feb5c7f0635",
            "e19bb93cea7d48b78dd465ba43ec9564",
            "ce66a133fd1640a7a715f70f82149297"
          ]
        },
        "outputId": "115f7501-0bba-4d44-b394-944e4094faa8"
      },
      "source": [
        "if __name__ == '__main__':\n",
        "    train_model(encoder, decoder, train_dataset, optimizer, targ_lang, device)"
      ],
      "execution_count": 39,
      "outputs": [
        {
          "output_type": "display_data",
          "data": {
            "application/vnd.jupyter.widget-view+json": {
              "model_id": "3b6b33fc738345169f67e0c77ccb26f3",
              "version_minor": 0,
              "version_major": 2
            },
            "text/plain": [
              "HBox(children=(FloatProgress(value=0.0, max=375.0), HTML(value='')))"
            ]
          },
          "metadata": {
            "tags": []
          }
        },
        {
          "output_type": "stream",
          "text": [
            "\n",
            "Epoch: 1/10\t Loss:1.8133 (11.07s)\n"
          ],
          "name": "stdout"
        },
        {
          "output_type": "display_data",
          "data": {
            "application/vnd.jupyter.widget-view+json": {
              "model_id": "9888cbcaed6c49fb98ab8fded2c0bd0d",
              "version_minor": 0,
              "version_major": 2
            },
            "text/plain": [
              "HBox(children=(FloatProgress(value=0.0, max=375.0), HTML(value='')))"
            ]
          },
          "metadata": {
            "tags": []
          }
        },
        {
          "output_type": "stream",
          "text": [
            "\n",
            "Epoch: 2/10\t Loss:1.4220 (11.08s)\n"
          ],
          "name": "stdout"
        },
        {
          "output_type": "display_data",
          "data": {
            "application/vnd.jupyter.widget-view+json": {
              "model_id": "75332708ccd2400b885726965437bc83",
              "version_minor": 0,
              "version_major": 2
            },
            "text/plain": [
              "HBox(children=(FloatProgress(value=0.0, max=375.0), HTML(value='')))"
            ]
          },
          "metadata": {
            "tags": []
          }
        },
        {
          "output_type": "stream",
          "text": [
            "\n",
            "Epoch: 3/10\t Loss:1.2014 (11.27s)\n"
          ],
          "name": "stdout"
        },
        {
          "output_type": "display_data",
          "data": {
            "application/vnd.jupyter.widget-view+json": {
              "model_id": "f4c06cae54c54ab6b817eb057c7ef727",
              "version_minor": 0,
              "version_major": 2
            },
            "text/plain": [
              "HBox(children=(FloatProgress(value=0.0, max=375.0), HTML(value='')))"
            ]
          },
          "metadata": {
            "tags": []
          }
        },
        {
          "output_type": "stream",
          "text": [
            "\n",
            "Epoch: 4/10\t Loss:1.0491 (11.25s)\n"
          ],
          "name": "stdout"
        },
        {
          "output_type": "display_data",
          "data": {
            "application/vnd.jupyter.widget-view+json": {
              "model_id": "3f41f863ec654d648609cc9f98056a34",
              "version_minor": 0,
              "version_major": 2
            },
            "text/plain": [
              "HBox(children=(FloatProgress(value=0.0, max=375.0), HTML(value='')))"
            ]
          },
          "metadata": {
            "tags": []
          }
        },
        {
          "output_type": "stream",
          "text": [
            "\n",
            "Epoch: 5/10\t Loss:0.9293 (11.93s)\n"
          ],
          "name": "stdout"
        },
        {
          "output_type": "display_data",
          "data": {
            "application/vnd.jupyter.widget-view+json": {
              "model_id": "35695ea1bf11485382b0af2fb337ca4f",
              "version_minor": 0,
              "version_major": 2
            },
            "text/plain": [
              "HBox(children=(FloatProgress(value=0.0, max=375.0), HTML(value='')))"
            ]
          },
          "metadata": {
            "tags": []
          }
        },
        {
          "output_type": "stream",
          "text": [
            "\n",
            "Epoch: 6/10\t Loss:0.8326 (11.69s)\n"
          ],
          "name": "stdout"
        },
        {
          "output_type": "display_data",
          "data": {
            "application/vnd.jupyter.widget-view+json": {
              "model_id": "821e2cbe69784c128ce1e22366bf9461",
              "version_minor": 0,
              "version_major": 2
            },
            "text/plain": [
              "HBox(children=(FloatProgress(value=0.0, max=375.0), HTML(value='')))"
            ]
          },
          "metadata": {
            "tags": []
          }
        },
        {
          "output_type": "stream",
          "text": [
            "\n",
            "Epoch: 7/10\t Loss:0.7499 (11.26s)\n"
          ],
          "name": "stdout"
        },
        {
          "output_type": "display_data",
          "data": {
            "application/vnd.jupyter.widget-view+json": {
              "model_id": "c170151115294c3cb0ab3ff05aa7277a",
              "version_minor": 0,
              "version_major": 2
            },
            "text/plain": [
              "HBox(children=(FloatProgress(value=0.0, max=375.0), HTML(value='')))"
            ]
          },
          "metadata": {
            "tags": []
          }
        },
        {
          "output_type": "stream",
          "text": [
            "\n",
            "Epoch: 8/10\t Loss:0.6763 (11.23s)\n"
          ],
          "name": "stdout"
        },
        {
          "output_type": "display_data",
          "data": {
            "application/vnd.jupyter.widget-view+json": {
              "model_id": "f44ad185d8954754a93fb3cfb24a373e",
              "version_minor": 0,
              "version_major": 2
            },
            "text/plain": [
              "HBox(children=(FloatProgress(value=0.0, max=375.0), HTML(value='')))"
            ]
          },
          "metadata": {
            "tags": []
          }
        },
        {
          "output_type": "stream",
          "text": [
            "\n",
            "Epoch: 9/10\t Loss:0.6102 (11.26s)\n"
          ],
          "name": "stdout"
        },
        {
          "output_type": "display_data",
          "data": {
            "application/vnd.jupyter.widget-view+json": {
              "model_id": "c169f13805f447929eb6d546a99350b3",
              "version_minor": 0,
              "version_major": 2
            },
            "text/plain": [
              "HBox(children=(FloatProgress(value=0.0, max=375.0), HTML(value='')))"
            ]
          },
          "metadata": {
            "tags": []
          }
        },
        {
          "output_type": "stream",
          "text": [
            "\n",
            "Epoch:10/10\t Loss:0.5504 (11.26s)\n",
            "Model trained!\n"
          ],
          "name": "stdout"
        }
      ]
    },
    {
      "cell_type": "code",
      "metadata": {
        "id": "Doqxb5jnpk9z",
        "colab": {
          "base_uri": "https://localhost:8080/"
        },
        "outputId": "03571a92-4a5e-4b48-ee06-d943fe338fff"
      },
      "source": [
        "if __name__ == '__main__':\n",
        "    save_candidate = evaluate_model(encoder, decoder, val_dataset, target_tensor_val, max_length_tar, targ_lang, device)"
      ],
      "execution_count": 40,
      "outputs": [
        {
          "output_type": "stream",
          "text": [
            "Loss 3.2113\n",
            "BLEU 1-gram: 0.153409\n",
            "BLEU 2-gram: 0.038932\n",
            "BLEU 3-gram: 0.025807\n",
            "BLEU 4-gram: 0.021773\n"
          ],
          "name": "stdout"
        }
      ]
    },
    {
      "cell_type": "markdown",
      "metadata": {
        "id": "nYKSWRO93Mjz"
      },
      "source": [
        "# Save results to your Google Drive for Submission\n",
        "You need to submit this **results.pkl** file to the autograder."
      ]
    },
    {
      "cell_type": "code",
      "metadata": {
        "id": "R2Jnt32ItMA7",
        "colab": {
          "base_uri": "https://localhost:8080/"
        },
        "outputId": "5860cd6d-801f-4bab-a1bb-1980c9947b91"
      },
      "source": [
        "if __name__ == '__main__':\n",
        "    from google.colab import drive\n",
        "    drive.mount('/content/drive')\n",
        "\n",
        "    pickle.dump(save_candidate, open('drive/My Drive/results.pkl', 'wb'))\n",
        "    print('results.pkl saved to your Google Drive')"
      ],
      "execution_count": 41,
      "outputs": [
        {
          "output_type": "stream",
          "text": [
            "Mounted at /content/drive\n",
            "results.pkl saved to your Google Drive\n"
          ],
          "name": "stdout"
        }
      ]
    },
    {
      "cell_type": "code",
      "metadata": {
        "id": "h3TbkOknPGzt"
      },
      "source": [
        ""
      ],
      "execution_count": null,
      "outputs": []
    }
  ]
}
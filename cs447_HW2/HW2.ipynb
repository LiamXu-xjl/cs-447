{
  "nbformat": 4,
  "nbformat_minor": 0,
  "metadata": {
    "accelerator": "GPU",
    "colab": {
      "name": "HW2.ipynb",
      "provenance": [],
      "collapsed_sections": [],
      "toc_visible": true
    },
    "kernelspec": {
      "name": "python3",
      "display_name": "Python 3"
    },
    "language_info": {
      "codemirror_mode": {
        "name": "ipython",
        "version": 3
      },
      "file_extension": ".py",
      "mimetype": "text/x-python",
      "name": "python",
      "nbconvert_exporter": "python",
      "pygments_lexer": "ipython3",
      "version": "3.6.2"
    }
  },
  "cells": [
    {
      "cell_type": "markdown",
      "metadata": {
        "colab_type": "text",
        "id": "pSy-sfxOsclS"
      },
      "source": [
        "# CS447 - Assignment 2"
      ]
    },
    {
      "cell_type": "markdown",
      "metadata": {
        "colab_type": "text",
        "id": "aIc7zIy7qrIt"
      },
      "source": [
        "In this part of assignment 2 we'll be building a machine learning model to detect the sentiment of movie reviews using the Stanford Sentiment Treebank([SST])(http://ai.stanford.edu/~amaas/data/sentiment/) dataset. First we will import all the required libraries. We highly recommend that you finish the PyTorch Tutorials [ 1 ](https://pytorch.org/tutorials/beginner/pytorch_with_examples.html),[ 2 ](https://pytorch.org/tutorials/beginner/data_loading_tutorial.html),[ 3 ](https://github.com/yunjey/pytorch-tutorial) before starting this assignment. \n",
        "\n",
        "After finishing this assignment you will able to answer the following questions:\n",
        "* How to write Dataloaders in Pytorch?\n",
        "* How to build dictionaries and vocabularies for Deep Nets?\n",
        "* How to use Embedding Layers in Pytorch?\n",
        "* How to use a Convolutional Neural Network for  sentiment analysis?\n",
        "* How to build various recurrent models (LSTMs and GRUs) for sentiment analysis?\n",
        "* How to use packed_padded_sequences for sequential models?\n",
        "\n",
        "Please make sure that you have selected \"GPU\" as the Hardware accelerator from Runtime -> Change runtime type.\n"
      ]
    },
    {
      "cell_type": "markdown",
      "metadata": {
        "colab_type": "text",
        "id": "jgzwGooD2bpy"
      },
      "source": [
        "## Import Libraries"
      ]
    },
    {
      "cell_type": "code",
      "metadata": {
        "colab_type": "code",
        "id": "EyCOvTRQ1nb-",
        "colab": {
          "base_uri": "https://localhost:8080/",
          "height": 36
        },
        "outputId": "e306a680-08df-4a27-ddfa-6bb7d100bd94"
      },
      "source": [
        "# Don't import any other libraries\n",
        "from collections import defaultdict\n",
        "import numpy as np\n",
        "import torch\n",
        "import torch.nn as nn\n",
        "import torch.nn.functional as F\n",
        "from torch.nn.utils.rnn import pack_padded_sequence, pad_packed_sequence\n",
        "import torch.optim as optim\n",
        "from torchtext import data, datasets\n",
        "\n",
        "device = torch.device('cuda' if torch.cuda.is_available() else 'cpu')\n",
        "\n",
        "if __name__=='__main__':\n",
        "    print('Using device:', device)"
      ],
      "execution_count": null,
      "outputs": [
        {
          "output_type": "stream",
          "text": [
            "Using device: cuda\n"
          ],
          "name": "stdout"
        }
      ]
    },
    {
      "cell_type": "markdown",
      "metadata": {
        "colab_type": "text",
        "id": "zHbJ1-aDsWCG"
      },
      "source": [
        "## Download dataset\n",
        "First we will download the dataset using [torchtext](https://torchtext.readthedocs.io/en/latest/index.html), which is a package that supports NLP for PyTorch. The following command will get you 3 objects `train_data`, `val_data` and `test_data`. To access the data:\n",
        "\n",
        "*   To access list of textual tokens - `train_data[0].text`\n",
        "*   To access label - `train_data[0].label`\n",
        "\n"
      ]
    },
    {
      "cell_type": "code",
      "metadata": {
        "colab_type": "code",
        "id": "dfX3bNby8FYL",
        "colab": {
          "base_uri": "https://localhost:8080/",
          "height": 93
        },
        "outputId": "4e5dda5b-02aa-4d4e-a9b4-3e0a73035ed5"
      },
      "source": [
        "if __name__=='__main__':\n",
        "    train_data, val_data, test_data = datasets.SST.splits(data.Field(tokenize = 'spacy'), data.LabelField(dtype = torch.float), filter_pred=lambda ex: ex.label != 'neutral')\n",
        "\n",
        "    print('{:d} train and {:d} test samples'.format(len(train_data), len(test_data)))\n",
        "\n",
        "    print('Sample text:', train_data[0].text)\n",
        "    print('Sample label:', train_data[0].label)"
      ],
      "execution_count": null,
      "outputs": [
        {
          "output_type": "stream",
          "text": [
            "6920 train and 1821 test samples\n",
            "Sample text: ['The', 'Rock', 'is', 'destined', 'to', 'be', 'the', '21st', 'Century', \"'s\", 'new', '`', '`', 'Conan', \"''\", 'and', 'that', 'he', \"'s\", 'going', 'to', 'make', 'a', 'splash', 'even', 'greater', 'than', 'Arnold', 'Schwarzenegger', ',', 'Jean', '-', 'Claud', 'Van', 'Damme', 'or', 'Steven', 'Segal', '.']\n",
            "Sample label: positive\n"
          ],
          "name": "stdout"
        }
      ]
    },
    {
      "cell_type": "markdown",
      "metadata": {
        "colab_type": "text",
        "id": "_kfg8RcyskyU"
      },
      "source": [
        "# 1. Define the Dataset Class (4 points)\n",
        "\n",
        "In the following cell, we will define the dataset class. You need to implement the following functions: \n",
        "\n",
        "\n",
        "*   ` build_dictionary() ` - creates the dictionaries `ixtoword` and `wordtoix`. Converts all the text of all examples, in the form of text ids and stores them in `textual_ids`. If a word is not present in your dictionary, it should use `<unk>`. Use the hyperparameter `THRESHOLD` to control which words appear in the dictionary, based on their frequency in the training data. Note that a word’s frequency should be `>=THRESHOLD` to be included in the dictionary. Also make sure that `<end>` should be at idx 0, and `<unk>` should be at idx 1\n",
        "\n",
        "*   ` get_label() ` - This function should return the value `1` if the label in the dataset is `positive`, and should return `0` if it is `negative`. The data type for the returned item should be `torch.LongTensor`\n",
        "\n",
        "*   ` get_text() ` - This function should pad the review with `<end>` character up to a length of `MAX_LEN` if the length of the text is less than the `MAX_LEN`. If length is more than `MAX_LEN` then it should only return the first `MAX_LEN` words. This function should also return the original length of the review. The data type for the returned items should be `torch.LongTensor`. Note that the text returned is a list of indices of the words from your `wordtoix` mapping\n",
        "\n",
        "*   ` __len__() ` - This function should return the total length (int value) of the dataset i.e. the number of sentences\n",
        "\n",
        "*   ` __getitem__() ` - This function should return the padded text, the length of the text (without the padding) and the label. The data type for all the returned items should be `torch.LongTensor`. You will use the ` get_label() ` and ` get_text() ` functions here\n",
        "\n",
        "NOTE: Don't forget to convert all text to lowercase!\n"
      ]
    },
    {
      "cell_type": "code",
      "metadata": {
        "colab_type": "code",
        "id": "1irMn3LX2YDB",
        "colab": {}
      },
      "source": [
        "THRESHOLD = 10\n",
        "MAX_LEN = 60\n",
        "UNK = '<unk>'\n",
        "END = '<end>'\n",
        "\n",
        "class TextDataset(data.Dataset):\n",
        "    def __init__(self, examples, split, ixtoword=None, wordtoix=None, THRESHOLD=THRESHOLD, MAX_LEN=MAX_LEN):\n",
        "        self.examples = examples\n",
        "        self.split = split\n",
        "        self.ixtoword = ixtoword\n",
        "        self.wordtoix = wordtoix\n",
        "        self.THRESHOLD = THRESHOLD\n",
        "        self.MAX_LEN = MAX_LEN\n",
        "\n",
        "        self.build_dictionary()\n",
        "        self.vocab_size = 0 ##### TODO : set this to the number of words in your vocabulary\n",
        "        \n",
        "        self.textual_ids = []\n",
        "        self.labels = []\n",
        "        ##### TODO #####\n",
        "        # textual_ids contains list of word ids as per wordtoix for all sentences\n",
        "        #   Replace words out of vocabulary with id of UNK token\n",
        "        # labels is a list of integer labels (0 or 1) for all sentences\n",
        "    \n",
        "    def build_dictionary(self): \n",
        "        # This is built only from train dataset and then reused in test dataset \n",
        "        # by passing ixtoword and wordtoix from train dataset to __init__() when creating test dataset\n",
        "        # which is done under 'Initialize the Dataloader' section\n",
        "        if self.split.lower() != 'train':\n",
        "            return\n",
        "        \n",
        "        # END should be at idx 0. UNK should be at idx 1 \n",
        "        self.ixtoword = {0:END, 1:UNK}\n",
        "        self.wordtoix = {END:0, UNK:1}\n",
        "\n",
        "        ##### TODO #####\n",
        "        # Count the frequencies of all words in the training data (self.examples)\n",
        "        # Assign idx (starting from 2) to all words having word_freq >= THRESHOLD\n",
        "    \n",
        "    def get_label(self, index):\n",
        "        ##### TODO #####\n",
        "        # This function should return the value 1 if the label is positive, and 0 if it is negative for sentence at index `index`\n",
        "        # The data type for the returned item should be torch.LongTensor\n",
        "\n",
        "        return label\n",
        "     \n",
        "    def get_text(self, index):\n",
        "        ##### TODO #####\n",
        "        # This function should pad the text with END token uptil a length of MAX_LEN if the length of the text is less than the MAX_LEN\n",
        "        #   If length is more than MAX_LEN then only return the first MAX_LEN words\n",
        "        # This function should also return the original length of the review\n",
        "        # The data type for the returned items should be torch.LongTensor\n",
        "        # Note that the text returned is a list of indices of the words from your wordtoix mapping\n",
        "\n",
        "        return text, text_len\n",
        "    \n",
        "    def __len__(self):\n",
        "        ##### TODO #####\n",
        "        # This function should return the number of sentences (int value) in the dataset\n",
        "        return 0\n",
        "    \n",
        "    def __getitem__(self, index):\n",
        "        text, text_len = self.get_text(index)\n",
        "        label = self.get_label(index)\n",
        "\n",
        "        return text, text_len, label"
      ],
      "execution_count": null,
      "outputs": []
    },
    {
      "cell_type": "code",
      "metadata": {
        "id": "HSxpGXj6ml9N",
        "colab_type": "code",
        "colab": {
          "base_uri": "https://localhost:8080/",
          "height": 148
        },
        "outputId": "4d4b26e4-0f5c-40c6-9641-37b7f296cb40"
      },
      "source": [
        "if __name__=='__main__':\n",
        "    # Sample item\n",
        "    Ds = TextDataset(train_data, 'train')\n",
        "    print('vocab_size:', Ds.vocab_size)\n",
        "\n",
        "    text, text_len, label = Ds[0]\n",
        "    print('text:', text)\n",
        "    print('text_len:', text_len)\n",
        "    print('label:', label)"
      ],
      "execution_count": null,
      "outputs": [
        {
          "output_type": "stream",
          "text": [
            "vocab_size: 1469\n",
            "text: tensor([ 2,  3,  4,  1,  5,  6,  2,  1,  7,  8,  9, 10, 10,  1, 11, 12, 13, 14,\n",
            "         8, 15,  5, 16, 17,  1, 18,  1, 19,  1,  1, 20,  1, 21,  1,  1,  1, 22,\n",
            "        23,  1, 24,  0,  0,  0,  0,  0,  0,  0,  0,  0,  0,  0,  0,  0,  0,  0,\n",
            "         0,  0,  0,  0,  0,  0])\n",
            "text_len: tensor(39)\n",
            "label: tensor(1)\n"
          ],
          "name": "stdout"
        }
      ]
    },
    {
      "cell_type": "markdown",
      "metadata": {
        "colab_type": "text",
        "id": "c6oP0IpRZveu"
      },
      "source": [
        "# Some helper functions"
      ]
    },
    {
      "cell_type": "code",
      "metadata": {
        "colab_type": "code",
        "id": "5zpJmsJiE-gq",
        "colab": {}
      },
      "source": [
        "##### Do not modify this\n",
        "\n",
        "def count_parameters(model):\n",
        "    \"\"\"\n",
        "    Count number of trainable parameters in the model\n",
        "    \"\"\"\n",
        "    return sum(p.numel() for p in model.parameters() if p.requires_grad)\n",
        "\n",
        "\n",
        "def accuracy(output, labels):\n",
        "    \"\"\"\n",
        "    Returns accuracy per batch\n",
        "    output: Tensor [batch_size, n_classes]\n",
        "    labels: LongTensor [batch_size]\n",
        "    \"\"\"\n",
        "    preds = output.argmax(dim=1) # find predicted class\n",
        "    correct = (preds == labels).sum().float() # convert into float for division \n",
        "    acc = correct / len(labels)\n",
        "    return acc"
      ],
      "execution_count": null,
      "outputs": []
    },
    {
      "cell_type": "markdown",
      "metadata": {
        "colab_type": "text",
        "id": "0DJc8Rxzt3JS"
      },
      "source": [
        "# Train your Model"
      ]
    },
    {
      "cell_type": "code",
      "metadata": {
        "colab_type": "code",
        "id": "LD-Jj2rUFOzr",
        "colab": {}
      },
      "source": [
        "##### Do not modify this\n",
        "\n",
        "def train_model(model, num_epochs, data_loader, optimizer, criterion):\n",
        "    print('Training Model...')\n",
        "    model.train()\n",
        "    for epoch in range(num_epochs):\n",
        "        epoch_loss = 0\n",
        "        epoch_acc = 0\n",
        "        for texts, text_lens, labels in data_loader:\n",
        "            texts = texts.to(device) # shape: [batch_size, MAX_LEN]\n",
        "            text_lens = text_lens.to(device) # shape: [batch_size]\n",
        "            labels = labels.to(device) # shape: [batch_size]\n",
        "\n",
        "            optimizer.zero_grad()\n",
        "\n",
        "            output = model(texts, text_lens)\n",
        "            acc = accuracy(output, labels)\n",
        "            \n",
        "            loss = criterion(output, labels)\n",
        "            loss.backward()\n",
        "            optimizer.step()\n",
        "\n",
        "            epoch_loss += loss.item()\n",
        "            epoch_acc += acc.item()\n",
        "        print('[TRAIN]\\t Epoch: {:2d}\\t Loss: {:.4f}\\t Accuracy: {:.2f}%'.format(epoch+1, epoch_loss/len(data_loader), 100*epoch_acc/len(data_loader)))\n",
        "    print('Model Trained!\\n')"
      ],
      "execution_count": null,
      "outputs": []
    },
    {
      "cell_type": "markdown",
      "metadata": {
        "colab_type": "text",
        "id": "Q-OJbZ72t6Yq"
      },
      "source": [
        "# Evaluate your Model"
      ]
    },
    {
      "cell_type": "code",
      "metadata": {
        "colab_type": "code",
        "id": "vTiiYDZIF--7",
        "colab": {}
      },
      "source": [
        "##### Do not modify this\n",
        "\n",
        "def evaluate(model, data_loader, criterion):\n",
        "    print('Evaluating performance on Test dataset...')\n",
        "    model.eval()\n",
        "    epoch_loss = 0\n",
        "    epoch_acc = 0\n",
        "    all_predictions = []\n",
        "    for texts, text_lens, labels in data_loader:\n",
        "        texts = texts.to(device)\n",
        "        text_lens = text_lens.to(device)\n",
        "        labels = labels.to(device)\n",
        "        \n",
        "        output = model(texts, text_lens)\n",
        "        acc = accuracy(output, labels)\n",
        "        all_predictions.append(output.argmax(dim=1))\n",
        "        \n",
        "        loss = criterion(output, labels)\n",
        "        \n",
        "        epoch_loss += loss.item()\n",
        "        epoch_acc += acc.item()\n",
        "\n",
        "    print('[TEST]\\t Loss: {:.4f}\\t Accuracy: {:.2f}%'.format(epoch_loss/len(data_loader), 100*epoch_acc/len(data_loader)))\n",
        "    predictions = torch.cat(all_predictions)\n",
        "    return predictions"
      ],
      "execution_count": null,
      "outputs": []
    },
    {
      "cell_type": "markdown",
      "metadata": {
        "colab_type": "text",
        "id": "e_4FFhulaAod"
      },
      "source": [
        "# 2. Build your Convolutional Neural Network Model (3 points)\n",
        "In the following we provide you the class to build your model. We provide some parameters that we expect you to use in the initialization of your sequential model. Do not change these parameters."
      ]
    },
    {
      "cell_type": "code",
      "metadata": {
        "colab_type": "code",
        "id": "0ztuy2hUaAof",
        "colab": {}
      },
      "source": [
        "class CNN(nn.Module):\n",
        "    def __init__(self, vocab_size, embed_size, out_channels, filter_heights, stride, num_classes, dropout, pad_idx):\n",
        "        super(CNN, self).__init__()\n",
        "        \n",
        "        ##### TODO #####\n",
        "        # Create an embedding layer (https://pytorch.org/docs/stable/generated/torch.nn.Embedding.html)\n",
        "        #   to represent the words in your vocabulary. You can vary the dimensionality of the embedding\n",
        "        self.embedding = None\n",
        "\n",
        "        # Define multiple Convolution layers (nn.Conv2d) with filter (kernel) size [filter_height, embed_size] based on your different filter_heights.\n",
        "        #   Input channels will be 1 and output channels will be `out_channels` (these many different filters will be trained for each convolution layer)\n",
        "        #   If you want, you can have a list of modules inside nn.ModuleList\n",
        "        # Note that even though your conv layers are nn.Conv2d, we are doing a 1d convolution since we are only moving the filter in one direction\n",
        "        #\n",
        "        # You can vary the number of output channels, filter heights, and stride\n",
        "        self.conv1 = None\n",
        "        self.conv2 = None\n",
        "        self.conv3 = None\n",
        "\n",
        "        # Define a linear layer (nn.Linear) that consists of num_classes (2 in our case) units \n",
        "        #   and takes as input the concatenated output for all cnn layers (out_channels * num_of_cnn_layers units)\n",
        "        self.linear = None\n",
        "\n",
        "\n",
        "    def forward(self, texts, text_lens):\n",
        "        \"\"\"\n",
        "        texts: LongTensor [batch_size, MAX_LEN]\n",
        "        text_lens: LongTensor [batch_size] - you might not even need to use this\n",
        "        \n",
        "        Returns output: Tensor [batch_size, num_classes]\n",
        "        \"\"\"\n",
        "        ##### TODO #####\n",
        "\n",
        "        # Pass texts through your embedding layer to convert from word ids to word embeddings\n",
        "        # texts: [batch_size, MAX_LEN, embed_size]\n",
        "\n",
        "        # input to conv should have 1 channel. Take a look at torch's unsqueeze() function\n",
        "        # texts [batch_size, 1, MAX_LEN, embed_size]\n",
        "        \n",
        "        # Pass these texts to each of your cnn and compute their output as follows:\n",
        "        #   Your cnn output will have shape [batch_size, out_channels, *, 1] where * depends on filter_height and stride\n",
        "        #   Convert to shape [batch_size, out_channels, *] (see torch's squeeze() function)\n",
        "        #   Apply non-linearity on it (F.relu() is a commonly used one. Feel free to try others)\n",
        "        #   Take the max value across last dimension to have shape [batch_size, out_channels]\n",
        "        # Concatenate (torch.cat) outputs from all your cnns [batch_size, (out_channels*num_of_cnn_layers)]\n",
        "        #\n",
        "        # Let's understand what you just did:\n",
        "        #   Since each cnn is of different filter_height, it will look at different number of words at a time\n",
        "        #     So, a filter_height of 3 means your cnn looks at 3 words (3-grams) at a time and tries to extract some information from it\n",
        "        #   Each cnn will learn `out_channels` number of different features from the words it sees at a time\n",
        "        #   Then you applied a non-linearity and took the max value for all channels\n",
        "        #     You are essentially trying to find important n-grams from the entire text\n",
        "        # Everything happens on a batch simultaneously hence you have that additional batch_size as the first dimension\n",
        "\n",
        "        # optionally apply a dropout if you want to (You will have to initialize an nn.Dropout layer in __init__)\n",
        "\n",
        "        # Pass your concatenated output through your linear layer and return its output ([batch_size, num_classes])\n",
        "\n",
        "        ##### NOTE: Do not apply a sigmoid or softmax to the final output - done in evaluation method!\n",
        "\n",
        "        \n",
        "        return output"
      ],
      "execution_count": null,
      "outputs": []
    },
    {
      "cell_type": "markdown",
      "metadata": {
        "colab_type": "text",
        "id": "2YcKGX6nn9OL"
      },
      "source": [
        "## Initialize the Dataloader\n",
        "We initialize the training and testing dataloaders using the Dataset classes we create for both training and testing. Make sure you use the same vocabulary for both the datasets."
      ]
    },
    {
      "cell_type": "code",
      "metadata": {
        "colab_type": "code",
        "id": "J2QYl334n9ON",
        "colab": {}
      },
      "source": [
        "if __name__=='__main__':\n",
        "    BATCH_SIZE = 32 # Feel free to try other batch sizes\n",
        "\n",
        "    ##### Do not modify this\n",
        "    Ds = TextDataset(train_data, 'train')\n",
        "    train_loader = torch.utils.data.DataLoader(Ds, batch_size=BATCH_SIZE, shuffle=True, num_workers=4, drop_last=True)\n",
        "\n",
        "    test_Ds = TextDataset(test_data, 'test', Ds.ixtoword, Ds.wordtoix)\n",
        "    test_loader = torch.utils.data.DataLoader(test_Ds, batch_size=1, shuffle=False, num_workers=1, drop_last=False)"
      ],
      "execution_count": null,
      "outputs": []
    },
    {
      "cell_type": "markdown",
      "metadata": {
        "colab_type": "text",
        "id": "hYHwCx4coNn4"
      },
      "source": [
        "## Training and Evaluation for CNN Model\n",
        "\n",
        "We first train your model using the training data. Feel free to play around with the hyperparameters. We recommend **you write code to save your model** [(save/load model tutorial)](https://pytorch.org/tutorials/beginner/saving_loading_models.html) as colab connections are not permanent and it can get messy if you'll have to train your model again and again."
      ]
    },
    {
      "cell_type": "code",
      "metadata": {
        "colab_type": "code",
        "id": "4z6cS6D8oNn9",
        "colab": {}
      },
      "source": [
        "if __name__=='__main__':\n",
        "    ##### Do not modify this\n",
        "    VOCAB_SIZE = Ds.vocab_size\n",
        "    NUM_CLASSES = 2\n",
        "    PAD_IDX = 0\n",
        "    \n",
        "    # Hyperparameters (Feel free to play around with these)\n",
        "    EMBEDDING_DIM = 64\n",
        "    DROPOUT = 0\n",
        "    OUT_CHANNELS = 16\n",
        "    FILTER_HEIGHTS = [1, 2, 3] # [3 different filter sizes - unigram, bigram, trigram in this case. Feel free to try other n-grams as well]\n",
        "    STRIDE = 1\n",
        "    model = CNN(VOCAB_SIZE, EMBEDDING_DIM, OUT_CHANNELS, FILTER_HEIGHTS, STRIDE, NUM_CLASSES, DROPOUT, PAD_IDX)\n",
        "\n",
        "    # put your model on device\n",
        "    model = model.to(device)\n",
        "    \n",
        "    print('The model has {:,d} trainable parameters'.format(count_parameters(model)))"
      ],
      "execution_count": null,
      "outputs": []
    },
    {
      "cell_type": "code",
      "metadata": {
        "colab_type": "code",
        "id": "FoeyQL4PoNoH",
        "colab": {}
      },
      "source": [
        "if __name__=='__main__':    \n",
        "    LEARNING_RATE = 5e-4 # Feel free to try other learning rates\n",
        "\n",
        "    # Define your loss function\n",
        "    criterion = nn.CrossEntropyLoss().to(device)\n",
        "\n",
        "    # Define your optimizer\n",
        "    optimizer = optim.Adam(model.parameters(), lr=LEARNING_RATE)"
      ],
      "execution_count": null,
      "outputs": []
    },
    {
      "cell_type": "code",
      "metadata": {
        "colab_type": "code",
        "id": "lPOs1FifoNoN",
        "colab": {}
      },
      "source": [
        "if __name__=='__main__':    \n",
        "    N_EPOCHS = 10 # Feel free to change this\n",
        "    \n",
        "    # train model for N_EPOCHS epochs\n",
        "    train_model(model, N_EPOCHS, train_loader, optimizer, criterion)"
      ],
      "execution_count": null,
      "outputs": []
    },
    {
      "cell_type": "code",
      "metadata": {
        "colab_type": "code",
        "id": "Z718w8e0oNoS",
        "colab": {}
      },
      "source": [
        "##### Do not modify this\n",
        "\n",
        "if __name__=='__main__':    \n",
        "    # Compute test data accuracy\n",
        "    predictions_cnn = evaluate(model, test_loader, criterion)\n",
        "\n",
        "    # Convert tensor to numpy array \n",
        "    # This will be saved to your Google Drive below and you will be submitting this file to gradescope\n",
        "    predictions_cnn = predictions_cnn.cpu().data.detach().numpy()"
      ],
      "execution_count": null,
      "outputs": []
    },
    {
      "cell_type": "markdown",
      "metadata": {
        "colab_type": "text",
        "id": "BRCFvjwDthiA"
      },
      "source": [
        "# 3. Build your Recurrent Neural Network Model (3 points)\n",
        "In the following we provide you the class to build your model. We provide some parameters that we expect you to use in the initialization of your sequential model. Do not change these parameters."
      ]
    },
    {
      "cell_type": "code",
      "metadata": {
        "colab_type": "code",
        "id": "2nc_HxbP6klI",
        "colab": {}
      },
      "source": [
        "class RNN(nn.Module):\n",
        "    def __init__(self, vocab_size, embed_size, hidden_size, num_classes, num_layers, bidirectional, dropout, pad_idx):\n",
        "        super(RNN, self).__init__()\n",
        "        self.hidden_size = hidden_size\n",
        "        self.num_layers = num_layers\n",
        "\n",
        "        ##### TODO #####\n",
        "        # Create an embedding layer (https://pytorch.org/docs/stable/generated/torch.nn.Embedding.html) \n",
        "        #   to represent the words in your vocabulary. You can vary the dimensionality of the embedding\n",
        "        self.embedding = None\n",
        "\n",
        "        # Create a recurrent network (nn.LSTM or nn.GRU) with batch_first = False\n",
        "        # You can vary the number of hidden units, directions, layers, and dropout\n",
        "        self.rnn = None\n",
        "        \n",
        "        # Define a linear layer (nn.Linear) that consists of num_classes (2 in our case) units \n",
        "        #   and takes as input the output of the last timestep (in the bidirectional case: the output of the last timestep\n",
        "        #   of the forward direction, concatenated with the output of the last timestep of the backward direction)\n",
        "        self.linear = None\n",
        "\n",
        "\n",
        "    def forward(self, texts, text_lens):\n",
        "        \"\"\"\n",
        "        texts: LongTensor [batch_size, MAX_LEN]\n",
        "        text_lens: LongTensor [batch_size]\n",
        "        \n",
        "        Returns output: Tensor [batch_size, num_classes]\n",
        "        \"\"\"\n",
        "        ##### TODO #####\n",
        "\n",
        "        # permute texts for sentence_len first dimension\n",
        "        # texts: [MAX_LEN, batch_size]\n",
        "\n",
        "        # Pass texts through your embedding layer to convert from word ids to word embeddings\n",
        "        # texts: [MAX_LEN, batch_size, embed_size]\n",
        "\n",
        "        # Pack texts into PackedSequence using nn.utils.rnn.pack_padded_sequence\n",
        "        \n",
        "        # Pass the pack through your recurrent network\n",
        "        \n",
        "        # Take output of the last timestep of the last layer for all directions and concatenate them (see torch.cat())\n",
        "        #   depends on whether your model is bidirectional\n",
        "        # Your concatenated output will have shape [batch_size, num_dirs*hidden_size]\n",
        "        \n",
        "        # optionally apply a dropout if you want to (You will have to initialize an nn.Dropout layer in __init__)\n",
        "\n",
        "        # Pass your concatenated output through your linear layer and return its output ([batch_size, num_classes])\n",
        "\n",
        "        ##### NOTE: Do not apply a sigmoid or softmax to the final output - done in evaluation method!\n",
        "\n",
        "        \n",
        "        return output"
      ],
      "execution_count": null,
      "outputs": []
    },
    {
      "cell_type": "markdown",
      "metadata": {
        "colab_type": "text",
        "id": "baD8lYAytdTV"
      },
      "source": [
        "## Initialize the Dataloader\n",
        "We initialize the training and testing dataloaders using the Dataset classes we create for both training and testing. Make sure you use the same vocabulary for both the datasets."
      ]
    },
    {
      "cell_type": "code",
      "metadata": {
        "colab_type": "code",
        "id": "WCzNm8LDM5aT",
        "colab": {}
      },
      "source": [
        "if __name__=='__main__':\n",
        "    BATCH_SIZE = 32 # Feel free to try other batch sizes\n",
        "\n",
        "    ##### Do not modify this\n",
        "    Ds = TextDataset(train_data, 'train')\n",
        "    train_loader = torch.utils.data.DataLoader(Ds, batch_size=BATCH_SIZE, shuffle=True, num_workers=4, drop_last=True)\n",
        "\n",
        "    test_Ds = TextDataset(test_data, 'test', Ds.ixtoword, Ds.wordtoix)\n",
        "    test_loader = torch.utils.data.DataLoader(test_Ds, batch_size=1, shuffle=False, num_workers=1, drop_last=False)"
      ],
      "execution_count": null,
      "outputs": []
    },
    {
      "cell_type": "markdown",
      "metadata": {
        "colab_type": "text",
        "id": "FhNl48rew3KW"
      },
      "source": [
        "## Training and Evaluation for Sequential Model\n",
        "\n",
        "We first train your model using the training data. Feel free to play around with the hyperparameters. We recommend **you write code to save your model** [(save/load model tutorial)](https://pytorch.org/tutorials/beginner/saving_loading_models.html) as colab connections are not permanent and it can get messy if you'll have to train your model again and again."
      ]
    },
    {
      "cell_type": "code",
      "metadata": {
        "colab_type": "code",
        "id": "CA-UairGErap",
        "colab": {}
      },
      "source": [
        "if __name__=='__main__':\n",
        "    ##### Do not modify this\n",
        "    VOCAB_SIZE = Ds.vocab_size\n",
        "    NUM_CLASSES = 2\n",
        "    PAD_IDX = 0\n",
        "\n",
        "    # Hyperparameters (Feel free to play around with these)\n",
        "    EMBEDDING_DIM = 64\n",
        "    DROPOUT = 0\n",
        "    BIDIRECTIONAL = True\n",
        "    HIDDEN_DIM = 128\n",
        "    N_LAYERS = 2\n",
        "    \n",
        "    model = RNN(VOCAB_SIZE, EMBEDDING_DIM, HIDDEN_DIM, NUM_CLASSES, N_LAYERS, BIDIRECTIONAL, DROPOUT, PAD_IDX)\n",
        "\n",
        "    # put your model on device\n",
        "    model = model.to(device)\n",
        "    \n",
        "    print('The model has {:,d} trainable parameters'.format(count_parameters(model)))"
      ],
      "execution_count": null,
      "outputs": []
    },
    {
      "cell_type": "code",
      "metadata": {
        "id": "em6Rs58OlJ3Z",
        "colab_type": "code",
        "colab": {}
      },
      "source": [
        "if __name__=='__main__':    \n",
        "    LEARNING_RATE = 5e-4 # Feel free to try other learning rates\n",
        "\n",
        "    # Define your loss function\n",
        "    criterion = nn.CrossEntropyLoss().to(device)\n",
        "\n",
        "    # Define your optimizer\n",
        "    optimizer = optim.Adam(model.parameters(), lr=LEARNING_RATE)"
      ],
      "execution_count": null,
      "outputs": []
    },
    {
      "cell_type": "code",
      "metadata": {
        "id": "NR8Wckf0l2G7",
        "colab_type": "code",
        "colab": {}
      },
      "source": [
        "if __name__=='__main__':    \n",
        "    N_EPOCHS = 10 # Feel free to change this\n",
        "    \n",
        "    # train model for N_EPOCHS epochs\n",
        "    train_model(model, N_EPOCHS, train_loader, optimizer, criterion)"
      ],
      "execution_count": null,
      "outputs": []
    },
    {
      "cell_type": "code",
      "metadata": {
        "id": "HYon4AbHl5_M",
        "colab_type": "code",
        "colab": {}
      },
      "source": [
        "##### Do not modify this\n",
        "\n",
        "if __name__=='__main__':    \n",
        "    # Compute test data accuracy\n",
        "    predictions_rnn = evaluate(model, test_loader, criterion)\n",
        "\n",
        "    # Convert tensor to numpy array \n",
        "    # This will be saved to your Google Drive below and you will be submitting this file to gradescope\n",
        "    predictions_rnn = predictions_rnn.cpu().data.detach().numpy()"
      ],
      "execution_count": null,
      "outputs": []
    },
    {
      "cell_type": "markdown",
      "metadata": {
        "colab_type": "text",
        "id": "8WQAV6O2xHvS"
      },
      "source": [
        "# Saving test results to your Google drive for submission.\n",
        "You will save the `predictions_rnn.txt` and `predictions_cnn.txt` with your test data results. Make sure you do not **shuffle** the order of the `test_data` or the autograder will give you a bad score.\n",
        "\n",
        "You will submit the following files to the autograder on the gradescope :\n",
        "1.   Your `predictions_cnn.txt` of test data results\n",
        "1.   Your `predictions_rnn.txt` of test data results\n",
        "2.   Your code of this notebook. You can do it by clicking `File`-> `Download .py` - make sure the name of the downloaded file is `HW2.py`\n",
        "\n"
      ]
    },
    {
      "cell_type": "code",
      "metadata": {
        "colab_type": "code",
        "id": "abbbMNi8X_ai",
        "colab": {}
      },
      "source": [
        "##### Do not modify this\n",
        "\n",
        "if __name__=='__main__':\n",
        "    try:\n",
        "        from google.colab import drive\n",
        "        drive.mount('/content/drive')\n",
        "    except:\n",
        "        pass\n",
        "\n",
        "    np.savetxt('drive/My Drive/predictions_cnn.txt', predictions_cnn, delimiter=',')\n",
        "    np.savetxt('drive/My Drive/predictions_rnn.txt', predictions_rnn, delimiter=',')\n",
        "\n",
        "    print('Files saved successfully!')"
      ],
      "execution_count": null,
      "outputs": []
    },
    {
      "cell_type": "code",
      "metadata": {
        "id": "C_PDga7qPFfA",
        "colab_type": "code",
        "colab": {}
      },
      "source": [
        ""
      ],
      "execution_count": null,
      "outputs": []
    }
  ]
}